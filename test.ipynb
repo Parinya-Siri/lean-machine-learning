{
 "cells": [
  {
   "cell_type": "code",
   "execution_count": 28,
   "id": "8bc70bd8-3147-497b-873a-3386a21e988e",
   "metadata": {},
   "outputs": [
    {
     "data": {
      "text/plain": [
       "80"
      ]
     },
     "execution_count": 28,
     "metadata": {},
     "output_type": "execute_result"
    }
   ],
   "source": [
    "f = open('./preprocess/bilinear.txt','r')\n",
    "text_emb = []\n",
    "for line in f:\n",
    "    line_text = [ord(i) for i in line]\n",
    "    while len(line_text) < 80: #padding\n",
    "        line_text.insert(0,0)\n",
    "    text_emb.append(line_text)\n",
    "text_emb[1]\n",
    "len(text_emb[2])\n",
    "    \n",
    "# for lines in f:\n",
    "#     [ord(i) for i in 'def lmul : A →ₐ[R] (End R A) :=']"
   ]
  },
  {
   "cell_type": "code",
   "execution_count": 46,
   "id": "f3110893-7aa9-4f16-93b2-a87d0a289cda",
   "metadata": {},
   "outputs": [],
   "source": [
    "import os , glob\n",
    "import utilities.utilities as util\n",
    "data_path = './matlib'\n",
    "preprocess_path = './preprocess'\n",
    "\n",
    "for filename in glob.glob(os.path.join(data_path, '*.lean')):\n",
    "    util.preprocess(filename, preprocess_path, data_path)"
   ]
  },
  {
   "cell_type": "code",
   "execution_count": 1,
   "id": "498eff64-ba29-4b9a-9023-ac7fe722fb9e",
   "metadata": {},
   "outputs": [],
   "source": [
    "import os , glob\n",
    "import utilities.utilities as util"
   ]
  },
  {
   "cell_type": "code",
   "execution_count": 2,
   "id": "43a23666-9b26-41c9-9644-5fa4280974cb",
   "metadata": {},
   "outputs": [
    {
     "name": "stdout",
     "output_type": "stream",
     "text": [
      "accuracy = 0.0\n",
      "102\n"
     ]
    }
   ],
   "source": [
    "### Path #####\n",
    "data_path = './matlib'\n",
    "preprocess_path = './preprocess'\n",
    "text_path = './preprocess/bilinear.txt'\n",
    "\n",
    "\n",
    "#### Hyper parameter #####\n",
    "prediction_type = 0 #the type of prediction\n",
    "num_lines_predict = 10 #the number of lines for prediction\n",
    "\n",
    "#### Generate txt files #######\n",
    "for filename in glob.glob(os.path.join(data_path, '*.lean')):\n",
    "    util.preprocess(filename, preprocess_path, data_path)\n",
    "\n",
    "#### read txt files as list ######\n",
    "text = util.list_lines(text_path)\n",
    "# print('total line', len(text),'text is @@@@@@@@')\n",
    "# for j in text:\n",
    "#     print(j)\n",
    "\n",
    "#### evaluate the accuracy #####\n",
    "print('accuracy =', util.evaluate(text, prediction_type, num_lines_predict))\n",
    "  \n",
    "test01 = util.encode_text_line(text)\n",
    "print(len(test01[0]))"
   ]
  },
  {
   "cell_type": "code",
   "execution_count": 2,
   "id": "6cc67016-8a96-4ab1-9f06-3776cf946daa",
   "metadata": {},
   "outputs": [
    {
     "name": "stdout",
     "output_type": "stream",
     "text": [
      "Net(\n",
      "  (fc1): Linear(in_features=1020, out_features=2048, bias=True)\n",
      "  (fc2): Linear(in_features=2048, out_features=512, bias=True)\n",
      "  (fc3): Linear(in_features=512, out_features=256, bias=True)\n",
      "  (fc4): Linear(in_features=256, out_features=102, bias=True)\n",
      ")\n"
     ]
    }
   ],
   "source": [
    "import torch\n",
    "import torch.nn as nn\n",
    "import torch.nn.functional as F\n",
    "class Net(nn.Module):\n",
    "    def __init__(self):\n",
    "        super().__init__()\n",
    "        self.fc1 = nn.Linear(102*10, 2048)\n",
    "        self.fc2 = nn.Linear(2048, 512)\n",
    "        self.fc3 = nn.Linear(512, 256)\n",
    "        self.fc4 = nn.Linear(256, 102)\n",
    "    \n",
    "    def forward(self, x):\n",
    "        x = F.relu(self.fc1(x))\n",
    "        x = F.relu(self.fc2(x))\n",
    "        x = F.relu(self.fc3(x))\n",
    "        x = self.fc4(x)\n",
    "        \n",
    "        return x\n",
    "net = Net()\n",
    "print(net)\n",
    "    "
   ]
  },
  {
   "cell_type": "code",
   "execution_count": 12,
   "id": "6c62d330-cb2d-4a3a-9296-24b60c625f59",
   "metadata": {
    "tags": []
   },
   "outputs": [
    {
     "name": "stdout",
     "output_type": "stream",
     "text": [
      "0\n"
     ]
    },
    {
     "name": "stderr",
     "output_type": "stream",
     "text": [
      "<ipython-input-12-d059cf8c70ee>:31: UserWarning: Using a target size (torch.Size([102])) that is different to the input size (torch.Size([1, 102])). This will likely lead to incorrect results due to broadcasting. Please ensure they have the same size.\n",
      "  loss = F.mse_loss(output, y)\n"
     ]
    },
    {
     "name": "stdout",
     "output_type": "stream",
     "text": [
      "tensor(1024.0367, grad_fn=<MseLossBackward0>)\n",
      "tensor(4445.4863, grad_fn=<MseLossBackward0>)\n",
      "tensor(3842.2334, grad_fn=<MseLossBackward0>)\n",
      "tensor(123205.8438, grad_fn=<MseLossBackward0>)\n"
     ]
    }
   ],
   "source": [
    "import torch.optim as optim\n",
    "\n",
    "optimizer = optim.Adam(net.parameters(), lr=0.001)\n",
    "data_path = './matlib'\n",
    "preprocess_path = './preprocess'\n",
    "\n",
    "EPOCHS = 1\n",
    "num_lines_predict = 10\n",
    "\n",
    "for epoch in range(EPOCHS):\n",
    "    l=0\n",
    "    loss=0\n",
    "    for filename in glob.glob(os.path.join(preprocess_path, '*.txt')): \n",
    "        text = util.list_lines(filename)\n",
    "        en_text = util.encode_text_line(text)\n",
    "        if l < 5:\n",
    "            for i in range(len(text)-num_lines_predict-1):\n",
    "                if l < 5:\n",
    "                    #choose \n",
    "                    X = en_text[i:i+num_lines_predict]\n",
    "                    y = en_text[i+num_lines_predict]\n",
    "                    # X = []\n",
    "                    # for i in chosen:\n",
    "                    #     X += i\n",
    "                    X = torch.FloatTensor(X)\n",
    "                    y = torch.FloatTensor(y)\n",
    "                    net.zero_grad()\n",
    "                    output = net(X.view(-1, 102*num_lines_predict))\n",
    "                    # print(y.size())\n",
    "                    # print(X.view(-1,80*num_lines_predict))\n",
    "                    loss = F.mse_loss(output, y)\n",
    "                    loss.backward()\n",
    "                    optimizer.step()\n",
    "                    \n",
    "            l+=1\n",
    "            print(loss)"
   ]
  },
  {
   "cell_type": "code",
   "execution_count": 15,
   "id": "c3269597-03bc-4385-ae72-13e68d9f319d",
   "metadata": {},
   "outputs": [
    {
     "data": {
      "text/plain": [
       "tensor(123205.8438, grad_fn=<MseLossBackward0>)"
      ]
     },
     "execution_count": 15,
     "metadata": {},
     "output_type": "execute_result"
    }
   ],
   "source": [
    "loss"
   ]
  },
  {
   "cell_type": "code",
   "execution_count": 33,
   "id": "2641e6d5-adde-49a0-89fc-a4ecafa991b8",
   "metadata": {},
   "outputs": [
    {
     "name": "stdout",
     "output_type": "stream",
     "text": [
      "tensor([[  2.0231,  -6.8178,   4.6865,  22.2454,  22.9200,  -5.3504, -16.3525,\n",
      "           4.1700,  -3.9402,  -3.4452,  19.4312, -19.7914, -23.6759,  11.6860,\n",
      "         -11.0420,  -7.3020,  25.9670, -24.3211, -23.5097,  14.0599, -14.8022,\n",
      "         -17.0320,  -1.8959,  -0.2213,  -7.6976,  26.4783,  23.7910,  31.1344,\n",
      "          -1.9136,   1.1461,  11.6442,  26.0564,  -5.2490,  10.6327,  -0.0658,\n",
      "         -24.1015,  -8.5875,  -5.7292,   5.0292,  19.0880,   8.4648, -15.4886,\n",
      "          -4.7401,  -3.5691,  13.2633,  -9.4214,  -0.4952,  32.6685,  -2.7357,\n",
      "         -14.4499, -30.2372,  11.5117, -15.9960,  16.0546,  -5.8137,  -2.8226,\n",
      "          15.7915, -13.1465, -22.1337, -15.4675,  12.0241,  22.7412,   3.1383,\n",
      "         -16.6246,  11.4387, -15.5147,  25.7555, -24.0560,  19.3061,  -8.5851,\n",
      "          20.5422, -10.6198,  18.0356,  15.4119,   4.1431,   8.2319,   4.3209,\n",
      "          -0.6170,  -4.6830,   4.1550, -10.8504,  -7.8562, -29.6704,  -5.7099,\n",
      "          12.2647,   7.3766,   3.9050,   6.6082, -39.4032,  -8.0374,  38.9490,\n",
      "         -13.9062,   8.4336, -24.3225,  -4.2119,  34.6366,   1.5116,   3.8401,\n",
      "          11.5914,  -1.6846, -22.8798,  15.6954]], grad_fn=<AddmmBackward0>)\n",
      "[2, 0, 5, 22, 23, 0, 0, 4, 0, 0, 19, 0, 0, 12, 0, 0, 26, 0, 0, 14, 0, 0, 0, 0, 0, 26, 24, 31, 0, 1, 12, 26, 0, 11, 0, 0, 0, 0, 5, 19, 8, 0, 0, 0, 13, 0, 0, 33, 0, 0, 0, 12, 0, 16, 0, 0, 16, 0, 0, 0, 12, 23, 3, 0, 11, 0, 26, 0, 19, 0, 21, 0, 18, 15, 4, 8, 4, 0, 0, 4, 0, 0, 0, 0, 12, 7, 4, 7, 0, 0, 39, 0, 8, 0, 0, 35, 2, 4, 12, 0, 0, 16]\n",
      "['\\x02', '\\x00', '\\x05', '\\x16', '\\x17', '\\x00', '\\x00', '\\x04', '\\x00', '\\x00', '\\x13', '\\x00', '\\x00', '\\x0c', '\\x00', '\\x00', '\\x1a', '\\x00', '\\x00', '\\x0e', '\\x00', '\\x00', '\\x00', '\\x00', '\\x00', '\\x1a', '\\x18', '\\x1f', '\\x00', '\\x01', '\\x0c', '\\x1a', '\\x00', '\\x0b', '\\x00', '\\x00', '\\x00', '\\x00', '\\x05', '\\x13', '\\x08', '\\x00', '\\x00', '\\x00', '\\r', '\\x00', '\\x00', '!', '\\x00', '\\x00', '\\x00', '\\x0c', '\\x00', '\\x10', '\\x00', '\\x00', '\\x10', '\\x00', '\\x00', '\\x00', '\\x0c', '\\x17', '\\x03', '\\x00', '\\x0b', '\\x00', '\\x1a', '\\x00', '\\x13', '\\x00', '\\x15', '\\x00', '\\x12', '\\x0f', '\\x04', '\\x08', '\\x04', '\\x00', '\\x00', '\\x04', '\\x00', '\\x00', '\\x00', '\\x00', '\\x0c', '\\x07', '\\x04', '\\x07', '\\x00', '\\x00', \"'\", '\\x00', '\\x08', '\\x00', '\\x00', '#', '\\x02', '\\x04', '\\x0c', '\\x00', '\\x00', '\\x10']\n"
     ]
    },
    {
     "data": {
      "text/plain": [
       "\"\\x02\\x00\\x05\\x16\\x17\\x00\\x00\\x04\\x00\\x00\\x13\\x00\\x00\\x0c\\x00\\x00\\x1a\\x00\\x00\\x0e\\x00\\x00\\x00\\x00\\x00\\x1a\\x18\\x1f\\x00\\x01\\x0c\\x1a\\x00\\x0b\\x00\\x00\\x00\\x00\\x05\\x13\\x08\\x00\\x00\\x00\\r\\x00\\x00!\\x00\\x00\\x00\\x0c\\x00\\x10\\x00\\x00\\x10\\x00\\x00\\x00\\x0c\\x17\\x03\\x00\\x0b\\x00\\x1a\\x00\\x13\\x00\\x15\\x00\\x12\\x0f\\x04\\x08\\x04\\x00\\x00\\x04\\x00\\x00\\x00\\x00\\x0c\\x07\\x04\\x07\\x00\\x00'\\x00\\x08\\x00\\x00#\\x02\\x04\\x0c\\x00\\x00\\x10\""
      ]
     },
     "execution_count": 33,
     "metadata": {},
     "output_type": "execute_result"
    }
   ],
   "source": [
    "test = util.list_lines(\"./preprocess/bilinear.txt\")\n",
    "en_test = util.encode_text_line(test)\n",
    "X = en_test[0:0+num_lines_predict]\n",
    "X = torch.FloatTensor(X)\n",
    "prediction = net(X.view(-1,102*num_lines_predict))\n",
    "print(prediction)\n",
    "prediction = [ round(i) if i>=0 else 0 for i in prediction[0].tolist()]\n",
    "print(prediction)\n",
    "prediction = [chr(i) for i in prediction]\n",
    "print(prediction)\n",
    "pred = ''\n",
    "for j in prediction:\n",
    "    pred+=j\n",
    "pred"
   ]
  },
  {
   "cell_type": "code",
   "execution_count": 134,
   "id": "98b9df96-15a6-49db-b53f-29ee415c9f5f",
   "metadata": {},
   "outputs": [
    {
     "name": "stderr",
     "output_type": "stream",
     "text": [
      "<ipython-input-134-afb3cde887cf>:3: UserWarning: Implicit dimension choice for log_softmax has been deprecated. Change the call to include dim=X as an argument.\n",
      "  output = F.nll_loss(F.log_softmax(input), target)\n"
     ]
    }
   ],
   "source": [
    "input = torch.randn(3, 5, requires_grad=True)\n",
    "target = torch.tensor([1, 0, 4])\n",
    "output = F.nll_loss(F.log_softmax(input), target)\n",
    "output.backward()"
   ]
  },
  {
   "cell_type": "code",
   "execution_count": 127,
   "id": "95a67c10-56f7-4995-a5cb-f5570af5b4df",
   "metadata": {},
   "outputs": [
    {
     "data": {
      "text/plain": [
       "tensor([[ 0.8206,  0.3732,  0.7117, -0.7908,  0.3385],\n",
       "        [ 1.1699, -0.0723, -0.0484, -0.9167,  1.9843],\n",
       "        [ 1.0320, -1.5377,  0.5465,  0.5768, -0.5105]], requires_grad=True)"
      ]
     },
     "execution_count": 127,
     "metadata": {},
     "output_type": "execute_result"
    }
   ],
   "source": [
    "input"
   ]
  },
  {
   "cell_type": "code",
   "execution_count": 24,
   "id": "9946f767-8270-40fa-bcca-3032e6a007d6",
   "metadata": {},
   "outputs": [
    {
     "data": {
      "text/plain": [
       "13.237209960755022"
      ]
     },
     "execution_count": 24,
     "metadata": {},
     "output_type": "execute_result"
    }
   ],
   "source": [
    "import math\n",
    "math.log(max(max(test01)),2)"
   ]
  },
  {
   "cell_type": "code",
   "execution_count": 26,
   "id": "ce386973-7b79-4f0c-830b-83b872fcba33",
   "metadata": {},
   "outputs": [
    {
     "data": {
      "text/plain": [
       "9656.000000000005"
      ]
     },
     "execution_count": 26,
     "metadata": {},
     "output_type": "execute_result"
    }
   ],
   "source": [
    "pow(2,13.237209960755022)"
   ]
  },
  {
   "cell_type": "code",
   "execution_count": 27,
   "id": "49057ef2-2895-4a46-87c0-bfc463b316d2",
   "metadata": {},
   "outputs": [
    {
     "data": {
      "text/plain": [
       "'▸'"
      ]
     },
     "execution_count": 27,
     "metadata": {},
     "output_type": "execute_result"
    }
   ],
   "source": [
    "chr(9656)"
   ]
  },
  {
   "cell_type": "code",
   "execution_count": 35,
   "id": "9c25df68-3e35-462b-abe0-08787e79b31d",
   "metadata": {},
   "outputs": [],
   "source": [
    "maxi = 0\n",
    "for filename in glob.glob(os.path.join(preprocess_path, '*.txt')):\n",
    "    text = util.list_lines(filename)\n",
    "    test01 = util.encode_text_line(text)\n",
    "    newmax =  max(max(test01))\n",
    "    if newmax >= maxi:\n",
    "        maxi = newmax\n",
    "        k = filename\n"
   ]
  },
  {
   "cell_type": "code",
   "execution_count": 6,
   "id": "81185f0d-a3f2-4347-9bf0-9f486d0e6ca3",
   "metadata": {},
   "outputs": [],
   "source": [
    "maxi = 0\n",
    "for filename in glob.glob(os.path.join(preprocess_path, '*.txt')):\n",
    "    text = util.list_lines(filename)\n",
    "    test01 = util.encode_text_line(text)\n",
    "    j=0\n",
    "    for line in test01:\n",
    "        j+=1\n",
    "        if len(line) >= maxi:\n",
    "            maxi = len(line)\n",
    "            k = filename\n",
    "            l = j\n",
    "            m = text[j]\n"
   ]
  },
  {
   "cell_type": "code",
   "execution_count": 7,
   "id": "b6c3daea-a89f-4744-8c25-003019b5bed6",
   "metadata": {},
   "outputs": [
    {
     "data": {
      "text/plain": [
       "'./preprocess/field_power.txt'"
      ]
     },
     "execution_count": 7,
     "metadata": {},
     "output_type": "execute_result"
    }
   ],
   "source": [
    "k"
   ]
  },
  {
   "cell_type": "code",
   "execution_count": 8,
   "id": "cbc82d7b-7c53-456f-91f5-cf6dfa13bebd",
   "metadata": {},
   "outputs": [
    {
     "data": {
      "text/plain": [
       "101"
      ]
     },
     "execution_count": 8,
     "metadata": {},
     "output_type": "execute_result"
    }
   ],
   "source": [
    "maxi"
   ]
  },
  {
   "cell_type": "code",
   "execution_count": 10,
   "id": "86e0ae44-dcfd-4efb-a4ee-e60800ea6a0f",
   "metadata": {},
   "outputs": [
    {
     "data": {
      "text/plain": [
       "128"
      ]
     },
     "execution_count": 10,
     "metadata": {},
     "output_type": "execute_result"
    }
   ],
   "source": [
    "j"
   ]
  },
  {
   "cell_type": "code",
   "execution_count": 11,
   "id": "10edad4a-4c90-4883-9397-e407d6497fa2",
   "metadata": {},
   "outputs": [
    {
     "data": {
      "text/plain": [
       "100"
      ]
     },
     "execution_count": 11,
     "metadata": {},
     "output_type": "execute_result"
    }
   ],
   "source": [
    "len('@[simp] lemma zpow_le_iff_le (hx : 1 < x) : x ^ m ≤ x ^ n ↔ m ≤ n := (zpow_strict_mono hx).le_iff_le')"
   ]
  },
  {
   "cell_type": "code",
   "execution_count": null,
   "id": "334a213a-e966-46ed-9d34-aa329411fa26",
   "metadata": {},
   "outputs": [],
   "source": [
    "for i in range(len(text)-num_lines_predict-1):\n",
    "    lines = text[i:i+num_lines_predict]\n",
    "    # print(total,'th comparation between ',predict(lines, prediction_type), 'and',text[i+num_lines_predict] )\n",
    "    if predict(lines, prediction_type) == text[i+num_lines_predict]:\n",
    "        correct +=1"
   ]
  },
  {
   "cell_type": "code",
   "execution_count": 54,
   "id": "7ece41d5-7bc9-4a4e-8d8c-4084bc66c20c",
   "metadata": {},
   "outputs": [
    {
     "data": {
      "text/plain": [
       "[1, 3, 5, 2, 5, 6, 7, 8, 9]"
      ]
     },
     "execution_count": 54,
     "metadata": {},
     "output_type": "execute_result"
    }
   ],
   "source": [
    "lists = [[1,3,5],[2,5,6],[7,8,9]]\n",
    "newlist = []\n",
    "for i in lists:\n",
    "    newlist += i\n",
    "newlist"
   ]
  },
  {
   "cell_type": "code",
   "execution_count": 53,
   "id": "1add7ac3-10b9-402d-8bba-89268558416a",
   "metadata": {},
   "outputs": [
    {
     "data": {
      "text/plain": [
       "[1, 3, 5, 2, 5, 6, 7, 8, 9]"
      ]
     },
     "execution_count": 53,
     "metadata": {},
     "output_type": "execute_result"
    }
   ],
   "source": [
    "newlist"
   ]
  },
  {
   "cell_type": "code",
   "execution_count": 48,
   "id": "0d5c18bf-0a88-463e-9b5d-f89111495bcd",
   "metadata": {},
   "outputs": [
    {
     "data": {
      "text/plain": [
       "[1, 3, 5, 2, 5, 6]"
      ]
     },
     "execution_count": 48,
     "metadata": {},
     "output_type": "execute_result"
    }
   ],
   "source": [
    "lists[0]+lists[1]"
   ]
  },
  {
   "cell_type": "code",
   "execution_count": 13,
   "id": "1c3c7edb-85d3-461e-9797-3de445d38425",
   "metadata": {},
   "outputs": [],
   "source": [
    "k = ['w','w','x']"
   ]
  },
  {
   "cell_type": "code",
   "execution_count": 14,
   "id": "15096774-b291-4432-a848-57299e742823",
   "metadata": {},
   "outputs": [
    {
     "data": {
      "text/plain": [
       "['w', 'w', 'x']"
      ]
     },
     "execution_count": 14,
     "metadata": {},
     "output_type": "execute_result"
    }
   ],
   "source": [
    "k"
   ]
  },
  {
   "cell_type": "code",
   "execution_count": 15,
   "id": "62d2303f-caaf-4c56-af58-702796c3da68",
   "metadata": {},
   "outputs": [],
   "source": [
    "k.remove('w')"
   ]
  },
  {
   "cell_type": "code",
   "execution_count": 16,
   "id": "89893b06-c016-43de-b389-71035b13d19e",
   "metadata": {},
   "outputs": [
    {
     "data": {
      "text/plain": [
       "['w', 'x']"
      ]
     },
     "execution_count": 16,
     "metadata": {},
     "output_type": "execute_result"
    }
   ],
   "source": [
    "k"
   ]
  },
  {
   "cell_type": "code",
   "execution_count": 8,
   "id": "d6707f22-442b-461d-bc63-82928d0220a1",
   "metadata": {
    "tags": []
   },
   "outputs": [
    {
     "data": {
      "text/plain": [
       "True"
      ]
     },
     "execution_count": 8,
     "metadata": {},
     "output_type": "execute_result"
    }
   ],
   "source": [
    "test = util.list_lines(\"./preprocess/bilinear.txt\")\n",
    "en_test = util.encode_text_line(test)\n",
    "de_test = util.decode_text_line(en_test)\n",
    "test == de_test"
   ]
  },
  {
   "cell_type": "code",
   "execution_count": 13,
   "id": "b689453f-5807-4cc6-8b74-7c8c800df80c",
   "metadata": {
    "collapsed": true,
    "jupyter": {
     "outputs_hidden": true
    },
    "tags": []
   },
   "outputs": [
    {
     "data": {
      "text/plain": [
       "['./matlib',\n",
       " './matlib/data',\n",
       " './matlib/data/bool',\n",
       " './matlib/data/dfinsupp',\n",
       " './matlib/data/vector',\n",
       " './matlib/data/polynomial',\n",
       " './matlib/data/polynomial/degree',\n",
       " './matlib/data/lazy_list',\n",
       " './matlib/data/string',\n",
       " './matlib/data/option',\n",
       " './matlib/data/sym',\n",
       " './matlib/data/ordmap',\n",
       " './matlib/data/zmod',\n",
       " './matlib/data/mv_polynomial',\n",
       " './matlib/data/setoid',\n",
       " './matlib/data/array',\n",
       " './matlib/data/rbmap',\n",
       " './matlib/data/multiset',\n",
       " './matlib/data/qpf',\n",
       " './matlib/data/qpf/univariate',\n",
       " './matlib/data/qpf/multivariate',\n",
       " './matlib/data/qpf/multivariate/constructions',\n",
       " './matlib/data/finset',\n",
       " './matlib/data/fun_like',\n",
       " './matlib/data/pi',\n",
       " './matlib/data/set',\n",
       " './matlib/data/set/intervals',\n",
       " './matlib/data/pnat',\n",
       " './matlib/data/set_like',\n",
       " './matlib/data/stream',\n",
       " './matlib/data/num',\n",
       " './matlib/data/fintype',\n",
       " './matlib/data/rat',\n",
       " './matlib/data/prod',\n",
       " './matlib/data/bitvec',\n",
       " './matlib/data/finsupp',\n",
       " './matlib/data/dlist',\n",
       " './matlib/data/sum',\n",
       " './matlib/data/matrix',\n",
       " './matlib/data/fin',\n",
       " './matlib/data/fin/tuple',\n",
       " './matlib/data/analysis',\n",
       " './matlib/data/fp',\n",
       " './matlib/data/W',\n",
       " './matlib/data/pfunctor',\n",
       " './matlib/data/pfunctor/univariate',\n",
       " './matlib/data/pfunctor/multivariate',\n",
       " './matlib/data/finite',\n",
       " './matlib/data/complex',\n",
       " './matlib/data/list',\n",
       " './matlib/data/real',\n",
       " './matlib/data/real/pi',\n",
       " './matlib/data/sigma',\n",
       " './matlib/data/buffer',\n",
       " './matlib/data/buffer/parser',\n",
       " './matlib/data/nat',\n",
       " './matlib/data/nat/cast',\n",
       " './matlib/data/nat/factorial',\n",
       " './matlib/data/nat/choose',\n",
       " './matlib/data/nat/factorization',\n",
       " './matlib/data/psigma',\n",
       " './matlib/data/int',\n",
       " './matlib/data/int/cast',\n",
       " './matlib/data/rbtree',\n",
       " './matlib/data/seq',\n",
       " './matlib/dynamics',\n",
       " './matlib/dynamics/circle',\n",
       " './matlib/dynamics/circle/rotation_number',\n",
       " './matlib/dynamics/ergodic',\n",
       " './matlib/dynamics/fixed_points',\n",
       " './matlib/meta',\n",
       " './matlib/group_theory',\n",
       " './matlib/group_theory/subgroup',\n",
       " './matlib/group_theory/submonoid',\n",
       " './matlib/group_theory/specific_groups',\n",
       " './matlib/group_theory/perm',\n",
       " './matlib/group_theory/perm/cycle',\n",
       " './matlib/group_theory/subsemigroup',\n",
       " './matlib/group_theory/group_action',\n",
       " './matlib/probability',\n",
       " './matlib/linear_algebra',\n",
       " './matlib/linear_algebra/clifford_algebra',\n",
       " './matlib/linear_algebra/projective_space',\n",
       " './matlib/linear_algebra/quadratic_form',\n",
       " './matlib/linear_algebra/charpoly',\n",
       " './matlib/linear_algebra/exterior_algebra',\n",
       " './matlib/linear_algebra/matrix',\n",
       " './matlib/linear_algebra/matrix/charpoly',\n",
       " './matlib/linear_algebra/affine_space',\n",
       " './matlib/linear_algebra/free_module',\n",
       " './matlib/linear_algebra/free_module/finite',\n",
       " './matlib/linear_algebra/multilinear',\n",
       " './matlib/linear_algebra/direct_sum',\n",
       " './matlib/linear_algebra/tensor_algebra',\n",
       " './matlib/set_theory',\n",
       " './matlib/set_theory/surreal',\n",
       " './matlib/set_theory/ordinal',\n",
       " './matlib/set_theory/cardinal',\n",
       " './matlib/set_theory/game',\n",
       " './matlib/algebraic_geometry',\n",
       " './matlib/algebraic_geometry/presheafed_space',\n",
       " './matlib/algebraic_geometry/prime_spectrum',\n",
       " './matlib/algebraic_geometry/projective_spectrum',\n",
       " './matlib/algebraic_geometry/locally_ringed_space',\n",
       " './matlib/number_theory',\n",
       " './matlib/number_theory/padics',\n",
       " './matlib/number_theory/liouville',\n",
       " './matlib/number_theory/zsqrtd',\n",
       " './matlib/number_theory/cyclotomic',\n",
       " './matlib/number_theory/class_number',\n",
       " './matlib/number_theory/legendre_symbol',\n",
       " './matlib/topology',\n",
       " './matlib/topology/locally_constant',\n",
       " './matlib/topology/sets',\n",
       " './matlib/topology/spectral',\n",
       " './matlib/topology/order',\n",
       " './matlib/topology/order/hom',\n",
       " './matlib/topology/instances',\n",
       " './matlib/topology/vector_bundle',\n",
       " './matlib/topology/continuous_function',\n",
       " './matlib/topology/category',\n",
       " './matlib/topology/category/CompHaus',\n",
       " './matlib/topology/category/Top',\n",
       " './matlib/topology/category/Profinite',\n",
       " './matlib/topology/bornology',\n",
       " './matlib/topology/hom',\n",
       " './matlib/topology/sheaves',\n",
       " './matlib/topology/sheaves/sheaf_condition',\n",
       " './matlib/topology/algebra',\n",
       " './matlib/topology/algebra/module',\n",
       " './matlib/topology/algebra/order',\n",
       " './matlib/topology/algebra/nonarchimedean',\n",
       " './matlib/topology/metric_space',\n",
       " './matlib/topology/homotopy',\n",
       " './matlib/topology/uniform_space',\n",
       " './matlib/logic',\n",
       " './matlib/logic/equiv',\n",
       " './matlib/logic/encodable',\n",
       " './matlib/logic/function',\n",
       " './matlib/order',\n",
       " './matlib/order/category',\n",
       " './matlib/order/hom',\n",
       " './matlib/order/partition',\n",
       " './matlib/order/filter',\n",
       " './matlib/order/succ_pred',\n",
       " './matlib/category_theory',\n",
       " './matlib/category_theory/endofunctor',\n",
       " './matlib/category_theory/functor',\n",
       " './matlib/category_theory/concrete_category',\n",
       " './matlib/category_theory/linear',\n",
       " './matlib/category_theory/enriched',\n",
       " './matlib/category_theory/preadditive',\n",
       " './matlib/category_theory/pi',\n",
       " './matlib/category_theory/additive',\n",
       " './matlib/category_theory/closed',\n",
       " './matlib/category_theory/monoidal',\n",
       " './matlib/category_theory/monoidal/free',\n",
       " './matlib/category_theory/monoidal/internal',\n",
       " './matlib/category_theory/monoidal/rigid',\n",
       " './matlib/category_theory/triangulated',\n",
       " './matlib/category_theory/idempotents',\n",
       " './matlib/category_theory/subobject',\n",
       " './matlib/category_theory/adjunction',\n",
       " './matlib/category_theory/category',\n",
       " './matlib/category_theory/category/Cat',\n",
       " './matlib/category_theory/abelian',\n",
       " './matlib/category_theory/abelian/diagram_lemmas',\n",
       " './matlib/category_theory/bicategory',\n",
       " './matlib/category_theory/limits',\n",
       " './matlib/category_theory/limits/constructions',\n",
       " './matlib/category_theory/limits/constructions/over',\n",
       " './matlib/category_theory/limits/shapes',\n",
       " './matlib/category_theory/limits/shapes/normal_mono',\n",
       " './matlib/category_theory/limits/preserves',\n",
       " './matlib/category_theory/limits/preserves/shapes',\n",
       " './matlib/category_theory/sites',\n",
       " './matlib/category_theory/sums',\n",
       " './matlib/category_theory/products',\n",
       " './matlib/category_theory/monad',\n",
       " './matlib/category_theory/sigma',\n",
       " './matlib/algebraic_topology',\n",
       " './matlib/algebraic_topology/fundamental_groupoid',\n",
       " './matlib/algebraic_topology/dold_kan',\n",
       " './matlib/combinatorics',\n",
       " './matlib/combinatorics/derangements',\n",
       " './matlib/combinatorics/set_family',\n",
       " './matlib/combinatorics/set_family/compression',\n",
       " './matlib/combinatorics/quiver',\n",
       " './matlib/combinatorics/additive',\n",
       " './matlib/combinatorics/simple_graph',\n",
       " './matlib/combinatorics/simple_graph/regularity',\n",
       " './matlib/combinatorics/hall',\n",
       " './matlib/.ipynb_checkpoints',\n",
       " './matlib/testing',\n",
       " './matlib/testing/slim_check',\n",
       " './matlib/analysis',\n",
       " './matlib/analysis/convex',\n",
       " './matlib/analysis/convex/simplicial_complex',\n",
       " './matlib/analysis/asymptotics',\n",
       " './matlib/analysis/locally_convex',\n",
       " './matlib/analysis/calculus',\n",
       " './matlib/analysis/calculus/conformal',\n",
       " './matlib/analysis/ODE',\n",
       " './matlib/analysis/normed_space',\n",
       " './matlib/analysis/normed_space/hahn_banach',\n",
       " './matlib/analysis/normed_space/star',\n",
       " './matlib/analysis/inner_product_space',\n",
       " './matlib/analysis/normed',\n",
       " './matlib/analysis/normed/field',\n",
       " './matlib/analysis/normed/group',\n",
       " './matlib/analysis/normed/group/SemiNormedGroup',\n",
       " './matlib/analysis/von_neumann_algebra',\n",
       " './matlib/analysis/special_functions',\n",
       " './matlib/analysis/special_functions/trigonometric',\n",
       " './matlib/analysis/special_functions/complex',\n",
       " './matlib/analysis/special_functions/log',\n",
       " './matlib/analysis/specific_limits',\n",
       " './matlib/analysis/analytic',\n",
       " './matlib/analysis/complex',\n",
       " './matlib/analysis/complex/upper_half_plane',\n",
       " './matlib/analysis/box_integral',\n",
       " './matlib/analysis/box_integral/partition',\n",
       " './matlib/analysis/box_integral/box',\n",
       " './matlib/deprecated',\n",
       " './matlib/geometry',\n",
       " './matlib/geometry/manifold',\n",
       " './matlib/geometry/manifold/instances',\n",
       " './matlib/geometry/manifold/algebra',\n",
       " './matlib/geometry/euclidean',\n",
       " './matlib/model_theory',\n",
       " './matlib/computability',\n",
       " './matlib/algebra',\n",
       " './matlib/algebra/polynomial',\n",
       " './matlib/algebra/group_with_zero',\n",
       " './matlib/algebra/ring',\n",
       " './matlib/algebra/group_power',\n",
       " './matlib/algebra/module',\n",
       " './matlib/algebra/module/submodule',\n",
       " './matlib/algebra/big_operators',\n",
       " './matlib/algebra/tropical',\n",
       " './matlib/algebra/field',\n",
       " './matlib/algebra/order',\n",
       " './matlib/algebra/order/hom',\n",
       " './matlib/algebra/regular',\n",
       " './matlib/algebra/category',\n",
       " './matlib/algebra/category/Algebra',\n",
       " './matlib/algebra/category/Semigroup',\n",
       " './matlib/algebra/category/FinVect',\n",
       " './matlib/algebra/category/Module',\n",
       " './matlib/algebra/category/Group',\n",
       " './matlib/algebra/category/Ring',\n",
       " './matlib/algebra/category/Mon',\n",
       " './matlib/algebra/gcd_monoid',\n",
       " './matlib/algebra/char_zero',\n",
       " './matlib/algebra/monoid_algebra',\n",
       " './matlib/algebra/lie',\n",
       " './matlib/algebra/hom',\n",
       " './matlib/algebra/char_p',\n",
       " './matlib/algebra/continued_fractions',\n",
       " './matlib/algebra/continued_fractions/computation',\n",
       " './matlib/algebra/group',\n",
       " './matlib/algebra/algebra',\n",
       " './matlib/algebra/algebra/subalgebra',\n",
       " './matlib/algebra/homology',\n",
       " './matlib/algebra/homology/short_exact',\n",
       " './matlib/algebra/star',\n",
       " './matlib/algebra/direct_sum',\n",
       " './matlib/ring_theory',\n",
       " './matlib/ring_theory/polynomial',\n",
       " './matlib/ring_theory/polynomial/cyclotomic',\n",
       " './matlib/ring_theory/witt_vector',\n",
       " './matlib/ring_theory/coprime',\n",
       " './matlib/ring_theory/mv_polynomial',\n",
       " './matlib/ring_theory/subsemiring',\n",
       " './matlib/ring_theory/power_series',\n",
       " './matlib/ring_theory/ideal',\n",
       " './matlib/ring_theory/localization',\n",
       " './matlib/ring_theory/adjoin',\n",
       " './matlib/ring_theory/dedekind_domain',\n",
       " './matlib/ring_theory/valuation',\n",
       " './matlib/ring_theory/subring',\n",
       " './matlib/ring_theory/graded_algebra',\n",
       " './matlib/ring_theory/int',\n",
       " './matlib/measure_theory',\n",
       " './matlib/measure_theory/covering',\n",
       " './matlib/measure_theory/constructions',\n",
       " './matlib/measure_theory/probability_mass_function',\n",
       " './matlib/measure_theory/integral',\n",
       " './matlib/measure_theory/decomposition',\n",
       " './matlib/measure_theory/category',\n",
       " './matlib/measure_theory/measure',\n",
       " './matlib/measure_theory/group',\n",
       " './matlib/measure_theory/function',\n",
       " './matlib/representation_theory',\n",
       " './matlib/tactic',\n",
       " './matlib/tactic/lint',\n",
       " './matlib/tactic/nth_rewrite',\n",
       " './matlib/tactic/monotonicity',\n",
       " './matlib/tactic/rewrite_search',\n",
       " './matlib/tactic/omega',\n",
       " './matlib/tactic/omega/nat',\n",
       " './matlib/tactic/omega/int',\n",
       " './matlib/tactic/linarith',\n",
       " './matlib/tactic/converter',\n",
       " './matlib/tactic/rewrite_all',\n",
       " './matlib/control',\n",
       " './matlib/control/functor',\n",
       " './matlib/control/bitraversable',\n",
       " './matlib/control/traversable',\n",
       " './matlib/control/monad',\n",
       " './matlib/control/equiv_functor',\n",
       " './matlib/field_theory',\n",
       " './matlib/field_theory/is_alg_closed',\n",
       " './matlib/field_theory/finite']"
      ]
     },
     "execution_count": 13,
     "metadata": {},
     "output_type": "execute_result"
    }
   ],
   "source": [
    "p = os.walk('./matlib')\n",
    "[x[0] for x in p]"
   ]
  },
  {
   "cell_type": "code",
   "execution_count": 2,
   "id": "68206573-8741-42cc-81f5-612071e81985",
   "metadata": {},
   "outputs": [],
   "source": [
    "import glob, os\n",
    "import utilities.utilities as util\n",
    "data_path = './matlib'\n",
    "preprocess_path = './preprocess'\n",
    "p = glob.glob(data_path + '/*', recursive = True)\n",
    "for path in p:\n",
    "    for filename in glob.glob(os.path.join(path, '*.lean')):\n",
    "        util.preprocess(filename, preprocess_path, data_path)"
   ]
  },
  {
   "cell_type": "code",
   "execution_count": 4,
   "id": "6ba313b5-86fc-4988-93ae-0d7dd6aaeef7",
   "metadata": {},
   "outputs": [
    {
     "data": {
      "text/plain": [
       "'./matlib/data'"
      ]
     },
     "execution_count": 4,
     "metadata": {},
     "output_type": "execute_result"
    }
   ],
   "source": [
    "p = glob.glob(data_path + '/*', recursive = True)\n",
    "p[0]"
   ]
  },
  {
   "cell_type": "code",
   "execution_count": 3,
   "id": "024f5c5a-812d-4778-96f9-184aeca337fa",
   "metadata": {},
   "outputs": [],
   "source": [
    "from tqdm import tqdm"
   ]
  },
  {
   "cell_type": "code",
   "execution_count": 8,
   "id": "153b3e14-04f5-4593-8b81-905985991424",
   "metadata": {},
   "outputs": [
    {
     "name": "stderr",
     "output_type": "stream",
     "text": [
      "100%|██████████| 5/5 [00:00<00:00, 54471.48it/s]\n"
     ]
    }
   ],
   "source": [
    "from tqdm import tqdm\n",
    "lst = [1, 3, 5, 7, 11]\n",
    "\n",
    "for element in tqdm(lst):\n",
    "    a=[]"
   ]
  },
  {
   "cell_type": "code",
   "execution_count": 23,
   "id": "bb8651f6-e203-4055-986b-ce863d3b0fc0",
   "metadata": {},
   "outputs": [],
   "source": [
    "torch.save(net,'./abe.pth')"
   ]
  },
  {
   "cell_type": "code",
   "execution_count": 24,
   "id": "d485026d-d45e-4ef1-8e68-5b6864a51e84",
   "metadata": {},
   "outputs": [],
   "source": [
    "net2 =  torch.load('./abe.pth')"
   ]
  },
  {
   "cell_type": "code",
   "execution_count": 25,
   "id": "ff6f64c3-9ccd-479c-8873-fd35eb790cfa",
   "metadata": {},
   "outputs": [
    {
     "data": {
      "text/plain": [
       "False"
      ]
     },
     "execution_count": 25,
     "metadata": {},
     "output_type": "execute_result"
    }
   ],
   "source": [
    "net == net2"
   ]
  },
  {
   "cell_type": "code",
   "execution_count": 33,
   "id": "3dd99fa9-3d6d-42df-83e8-e97151e02e34",
   "metadata": {},
   "outputs": [
    {
     "data": {
      "text/plain": [
       "tensor([[-0.0123, -0.0312,  0.0150,  ..., -0.0179,  0.0191,  0.0024],\n",
       "        [ 0.0076,  0.0264,  0.0127,  ..., -0.0313,  0.0249, -0.0239],\n",
       "        [-0.0156,  0.0098, -0.0021,  ..., -0.0190, -0.0002, -0.0210],\n",
       "        ...,\n",
       "        [ 0.0237, -0.0251,  0.0258,  ..., -0.0249, -0.0149, -0.0072],\n",
       "        [-0.0114, -0.0127,  0.0229,  ..., -0.0313,  0.0272, -0.0175],\n",
       "        [ 0.0086,  0.0011,  0.0119,  ..., -0.0083,  0.0119, -0.0307]])"
      ]
     },
     "execution_count": 33,
     "metadata": {},
     "output_type": "execute_result"
    }
   ],
   "source": [
    "net.state_dict()['fc1.weight']"
   ]
  },
  {
   "cell_type": "code",
   "execution_count": 34,
   "id": "572c6f89-f6f7-4480-b259-3620cdf04b94",
   "metadata": {},
   "outputs": [
    {
     "data": {
      "text/plain": [
       "tensor([[-0.0123, -0.0312,  0.0150,  ..., -0.0179,  0.0191,  0.0024],\n",
       "        [ 0.0076,  0.0264,  0.0127,  ..., -0.0313,  0.0249, -0.0239],\n",
       "        [-0.0156,  0.0098, -0.0021,  ..., -0.0190, -0.0002, -0.0210],\n",
       "        ...,\n",
       "        [ 0.0237, -0.0251,  0.0258,  ..., -0.0249, -0.0149, -0.0072],\n",
       "        [-0.0114, -0.0127,  0.0229,  ..., -0.0313,  0.0272, -0.0175],\n",
       "        [ 0.0086,  0.0011,  0.0119,  ..., -0.0083,  0.0119, -0.0307]])"
      ]
     },
     "execution_count": 34,
     "metadata": {},
     "output_type": "execute_result"
    }
   ],
   "source": [
    "net2.state_dict()['fc1.weight']"
   ]
  },
  {
   "cell_type": "code",
   "execution_count": 43,
   "id": "be4aa437-964e-400a-9007-9a8390bf0cf6",
   "metadata": {},
   "outputs": [
    {
     "name": "stdout",
     "output_type": "stream",
     "text": [
      "['07-07-2022, 00:27:58']\n"
     ]
    }
   ],
   "source": [
    "from datetime import datetime\n",
    "\n",
    "now = datetime.now() # current date and time\n",
    "a=[now.strftime(\"%m-%m-%Y\")]\n",
    "print(a)"
   ]
  },
  {
   "cell_type": "code",
   "execution_count": 44,
   "id": "3d6df1dd-5b86-49cf-ad81-d8438eefbe48",
   "metadata": {},
   "outputs": [
    {
     "data": {
      "text/plain": [
       "'9'"
      ]
     },
     "execution_count": 44,
     "metadata": {},
     "output_type": "execute_result"
    }
   ],
   "source": [
    "k=9\n",
    "str(k)"
   ]
  },
  {
   "cell_type": "code",
   "execution_count": 45,
   "id": "56850c41-7208-4394-91e8-cb3059b02f93",
   "metadata": {},
   "outputs": [],
   "source": [
    "score = [1,2,3,4,5]\n",
    "with open('./neuralnetwork/'+now.strftime(\"%m-%m-%Y\")+'_'+str(k)+\".txt\", \"w\") as f:\n",
    "    for s in score:\n",
    "        f.write(str(s) +\"\\n\")"
   ]
  },
  {
   "cell_type": "code",
   "execution_count": 34,
   "id": "853f5d07-1557-4d85-9558-2708ca1adb17",
   "metadata": {},
   "outputs": [
    {
     "data": {
      "text/plain": [
       "123205.84375"
      ]
     },
     "execution_count": 34,
     "metadata": {},
     "output_type": "execute_result"
    }
   ],
   "source": [
    "loss.item()"
   ]
  },
  {
   "cell_type": "code",
   "execution_count": 33,
   "id": "09764f87-320c-4527-9746-90a0975bd57b",
   "metadata": {},
   "outputs": [
    {
     "name": "stderr",
     "output_type": "stream",
     "text": [
      "<>:1: SyntaxWarning: \"is\" with a literal. Did you mean \"==\"?\n",
      "<>:1: SyntaxWarning: \"is\" with a literal. Did you mean \"==\"?\n",
      "<ipython-input-33-6c3030368d97>:1: SyntaxWarning: \"is\" with a literal. Did you mean \"==\"?\n",
      "  'loss' is str\n"
     ]
    },
    {
     "data": {
      "text/plain": [
       "False"
      ]
     },
     "execution_count": 33,
     "metadata": {},
     "output_type": "execute_result"
    }
   ],
   "source": [
    "'loss' is str"
   ]
  },
  {
   "cell_type": "code",
   "execution_count": 47,
   "id": "e1dae47e-90e2-4e89-97a2-d43a59e53e22",
   "metadata": {},
   "outputs": [],
   "source": [
    "from datetime import datetime\n",
    "now = datetime.now()\n",
    "loss_list = [2.2,62,99]\n",
    "k=0\n",
    "while os.path.exists('./neuralnetwork/'+now.strftime(\"%m-%m-%Y\")+'_'+str(k)+\".txt\"):\n",
    "    k+=1\n",
    "ppp = './neuralnetwork/'+now.strftime(\"%m-%m-%Y\")+'_'+str(k)\n",
    "with open(ppp+\".txt\", \"w\") as f:\n",
    "    for s in loss_list:\n",
    "        f.write(str(s) +\"\\n\")"
   ]
  },
  {
   "cell_type": "code",
   "execution_count": 48,
   "id": "92eccaba-6d23-4189-87e2-4ce4fca3ec62",
   "metadata": {},
   "outputs": [],
   "source": [
    "torch.save(net,ppp+'.pth')"
   ]
  },
  {
   "cell_type": "code",
   "execution_count": null,
   "id": "1d1db781-f3bf-4852-8c0b-783fddc10df3",
   "metadata": {},
   "outputs": [],
   "source": []
  }
 ],
 "metadata": {
  "kernelspec": {
   "display_name": "Python 3",
   "language": "python",
   "name": "python3"
  },
  "language_info": {
   "codemirror_mode": {
    "name": "ipython",
    "version": 3
   },
   "file_extension": ".py",
   "mimetype": "text/x-python",
   "name": "python",
   "nbconvert_exporter": "python",
   "pygments_lexer": "ipython3",
   "version": "3.9.7"
  }
 },
 "nbformat": 4,
 "nbformat_minor": 5
}
