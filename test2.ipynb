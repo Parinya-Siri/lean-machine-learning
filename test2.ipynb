{
 "cells": [
  {
   "cell_type": "code",
   "execution_count": 8,
   "id": "8c46555d-0712-4bc8-bdcf-3c381717c1cc",
   "metadata": {},
   "outputs": [
    {
     "name": "stdout",
     "output_type": "stream",
     "text": [
      "[]\n"
     ]
    },
    {
     "data": {
      "text/plain": [
       "2513"
      ]
     },
     "execution_count": 8,
     "metadata": {},
     "output_type": "execute_result"
    }
   ],
   "source": [
    "p = os.walk(data_path)\n",
    "fps=[]\n",
    "for i,j,k in p:\n",
    "    for f in k:\n",
    "        fp=os.path.join(i,f)\n",
    "        fps.append(fp)"
   ]
  },
  {
   "cell_type": "code",
   "execution_count": 5,
   "id": "c57206ce-2fab-41ed-97e0-595100ec94ec",
   "metadata": {},
   "outputs": [],
   "source": [
    "from transformers import GPT2Config, GPT2LMHeadModel, GPT2Tokenizer, DataCollatorForLanguageModeling"
   ]
  },
  {
   "cell_type": "code",
   "execution_count": 6,
   "id": "528e7b4a-dbae-4da9-80ec-a07ff334f36d",
   "metadata": {},
   "outputs": [],
   "source": [
    "from tokenizers import ByteLevelBPETokenizer\n",
    "from transformers import GPT2Config, GPT2LMHeadModel, GPT2Tokenizer, DataCollatorForLanguageModeling\n",
    "from datasets import load_dataset\n",
    "from transformers import Trainer, TrainingArguments\n",
    "import utilities.utilities as util\n",
    "\n",
    "TRAIN_BASE = True\n",
    "\n",
    "data_path = './matlib'\n",
    "preprocess_path = './preprocess'\n",
    "paths = util.preprocess(preprocess_path,data_path)\n",
    "# paths = [\"./preprocess/algebra-associated.txt\"]\n",
    "\n",
    "if TRAIN_BASE:\n",
    "    tokenizer = ByteLevelBPETokenizer()\n",
    "    \n",
    "    tokenizer.train(files=paths, vocab_size=52_000, min_frequency=2, special_tokens=[\n",
    "        \"<s>\",\n",
    "        \"<pad>\",\n",
    "        \"</s>\",\n",
    "        \"<unk>\",\n",
    "        \"<mask>\",\n",
    "    ])\n",
    "    \n",
    "    tokenizer.save_model(\"tokenizer\")"
   ]
  },
  {
   "cell_type": "code",
   "execution_count": null,
   "id": "2c75e141-6794-4e69-a264-33bbfc701d0e",
   "metadata": {},
   "outputs": [],
   "source": [
    "begin induction n with n ih, { rw pow_zero at h, have := is_unit_of_dvd_one _ h,     have := not_unit hp,    contradiction },  rw pow_succ at h,  cases dvd_or_dvd hp h with dvd_a dvd_pow,  { assumption },   exact ih dvd_pow"
   ]
  }
 ],
 "metadata": {
  "kernelspec": {
   "display_name": "Python 3",
   "language": "python",
   "name": "python3"
  },
  "language_info": {
   "codemirror_mode": {
    "name": "ipython",
    "version": 3
   },
   "file_extension": ".py",
   "mimetype": "text/x-python",
   "name": "python",
   "nbconvert_exporter": "python",
   "pygments_lexer": "ipython3",
   "version": "3.9.7"
  }
 },
 "nbformat": 4,
 "nbformat_minor": 5
}
