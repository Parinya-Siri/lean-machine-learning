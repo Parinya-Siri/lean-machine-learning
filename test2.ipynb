{
 "cells": [
  {
   "cell_type": "code",
   "execution_count": 12,
   "id": "e9355ad9-1ef5-4d31-968b-f3e7d26e8814",
   "metadata": {},
   "outputs": [],
   "source": [
    "import torch\n",
    "import torch.nn as nn\n",
    "import torch.nn.functional as F\n",
    "\n",
    "class Net(nn.Module):\n",
    "    def __init__(self, num_lines_predict, layer1, layer2, layer3):\n",
    "        super().__init__()\n",
    "        self.num_lines_predict = 0 \n",
    "        self.fc1 = nn.Linear(102*num_lines_predict, layer1)\n",
    "        self.fc2 = nn.Linear(layer1, layer2)\n",
    "        self.fc3 = nn.Linear(layer2, layer3)\n",
    "        self.fc4 = nn.Linear(layer3, 102)\n",
    "    \n",
    "    def forward(self, x):\n",
    "        x = F.relu(self.fc1(x))\n",
    "        x = F.relu(self.fc2(x))\n",
    "        x = F.relu(self.fc3(x))\n",
    "        x = self.fc4(x)\n",
    "        \n",
    "        return x"
   ]
  },
  {
   "cell_type": "code",
   "execution_count": 15,
   "id": "3dd4d452-26c2-4e7b-bde1-1fd5d410ede3",
   "metadata": {},
   "outputs": [
    {
     "data": {
      "text/plain": [
       "Net(\n",
       "  (fc1): Linear(in_features=1020, out_features=30, bias=True)\n",
       "  (fc2): Linear(in_features=30, out_features=31, bias=True)\n",
       "  (fc3): Linear(in_features=31, out_features=32, bias=True)\n",
       "  (fc4): Linear(in_features=32, out_features=102, bias=True)\n",
       ")"
      ]
     },
     "execution_count": 15,
     "metadata": {},
     "output_type": "execute_result"
    }
   ],
   "source": [
    "x=Net(10, 30,31,32)\n",
    "x"
   ]
  },
  {
   "cell_type": "code",
   "execution_count": null,
   "id": "5ed0d521-6a9a-4a3e-be58-c98e2fb51a7c",
   "metadata": {},
   "outputs": [],
   "source": []
  }
 ],
 "metadata": {
  "kernelspec": {
   "display_name": "Python 3",
   "language": "python",
   "name": "python3"
  },
  "language_info": {
   "codemirror_mode": {
    "name": "ipython",
    "version": 3
   },
   "file_extension": ".py",
   "mimetype": "text/x-python",
   "name": "python",
   "nbconvert_exporter": "python",
   "pygments_lexer": "ipython3",
   "version": "3.9.7"
  }
 },
 "nbformat": 4,
 "nbformat_minor": 5
}
