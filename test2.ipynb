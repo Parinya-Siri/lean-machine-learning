{
 "cells": [
  {
   "cell_type": "code",
   "execution_count": 2,
   "id": "3f4cb959-2641-491d-be29-f831164d9870",
   "metadata": {},
   "outputs": [],
   "source": [
    "import tensorflow as tf\n",
    "import datetime"
   ]
  },
  {
   "cell_type": "code",
   "execution_count": 3,
   "id": "b13a5184-039f-4876-9e67-105d3775796d",
   "metadata": {},
   "outputs": [],
   "source": [
    "from torch.utils.tensorboard import SummaryWriter\n",
    "writer = SummaryWriter()"
   ]
  },
  {
   "cell_type": "code",
   "execution_count": 8,
   "id": "76b409e2-416d-4164-9735-249dcfa2d58a",
   "metadata": {},
   "outputs": [
    {
     "name": "stdout",
     "output_type": "stream",
     "text": [
      "training epoch number  0\n"
     ]
    },
    {
     "name": "stderr",
     "output_type": "stream",
     "text": [
      "<ipython-input-8-951f8fbe540b>:51: UserWarning: Using a target size (torch.Size([102])) that is different to the input size (torch.Size([1, 102])). This will likely lead to incorrect results due to broadcasting. Please ensure they have the same size.\n",
      "  loss = F.mse_loss(output, y)\n"
     ]
    },
    {
     "name": "stdout",
     "output_type": "stream",
     "text": [
      "loss for  0  epochs :  tensor(15890.5186, grad_fn=<MseLossBackward0>)\n",
      "training epoch number  1\n",
      "loss for  1  epochs :  tensor(2073.4524, grad_fn=<MseLossBackward0>)\n",
      "training epoch number  2\n",
      "loss for  2  epochs :  tensor(5943.4551, grad_fn=<MseLossBackward0>)\n",
      "training epoch number  3\n",
      "loss for  3  epochs :  tensor(8258.3086, grad_fn=<MseLossBackward0>)\n",
      "training epoch number  4\n",
      "loss for  4  epochs :  tensor(2785.0400, grad_fn=<MseLossBackward0>)\n",
      "training epoch number  5\n",
      "loss for  5  epochs :  tensor(408.4175, grad_fn=<MseLossBackward0>)\n",
      "training epoch number  6\n",
      "loss for  6  epochs :  tensor(316.3136, grad_fn=<MseLossBackward0>)\n",
      "training epoch number  7\n",
      "loss for  7  epochs :  tensor(4875.0356, grad_fn=<MseLossBackward0>)\n",
      "training epoch number  8\n",
      "loss for  8  epochs :  tensor(568.6699, grad_fn=<MseLossBackward0>)\n",
      "training epoch number  9\n",
      "loss for  9  epochs :  tensor(440.4727, grad_fn=<MseLossBackward0>)\n",
      "training epoch number  10\n",
      "loss for  10  epochs :  tensor(315.6265, grad_fn=<MseLossBackward0>)\n",
      "training epoch number  11\n",
      "loss for  11  epochs :  tensor(315.4192, grad_fn=<MseLossBackward0>)\n",
      "training epoch number  12\n"
     ]
    },
    {
     "ename": "KeyboardInterrupt",
     "evalue": "",
     "output_type": "error",
     "traceback": [
      "\u001b[0;31m---------------------------------------------------------------------------\u001b[0m",
      "\u001b[0;31mKeyboardInterrupt\u001b[0m                         Traceback (most recent call last)",
      "Input \u001b[0;32mIn [8]\u001b[0m, in \u001b[0;36m<cell line: 36>\u001b[0;34m()\u001b[0m\n\u001b[1;32m     49\u001b[0m     output \u001b[38;5;241m=\u001b[39m net(X\u001b[38;5;241m.\u001b[39mview(\u001b[38;5;241m-\u001b[39m\u001b[38;5;241m1\u001b[39m, max_char\u001b[38;5;241m*\u001b[39mnum_lines_predict))\n\u001b[1;32m     51\u001b[0m     loss \u001b[38;5;241m=\u001b[39m F\u001b[38;5;241m.\u001b[39mmse_loss(output, y)\n\u001b[0;32m---> 52\u001b[0m     \u001b[43mloss\u001b[49m\u001b[38;5;241;43m.\u001b[39;49m\u001b[43mbackward\u001b[49m\u001b[43m(\u001b[49m\u001b[43m)\u001b[49m\n\u001b[1;32m     53\u001b[0m     optimizer\u001b[38;5;241m.\u001b[39mstep()\n\u001b[1;32m     54\u001b[0m writer\u001b[38;5;241m.\u001b[39madd_scalar(\u001b[38;5;124m\"\u001b[39m\u001b[38;5;124mLoss/train\u001b[39m\u001b[38;5;124m\"\u001b[39m, loss, epoch)\n",
      "File \u001b[0;32m~/miniconda3/lib/python3.9/site-packages/torch/_tensor.py:396\u001b[0m, in \u001b[0;36mTensor.backward\u001b[0;34m(self, gradient, retain_graph, create_graph, inputs)\u001b[0m\n\u001b[1;32m    387\u001b[0m \u001b[38;5;28;01mif\u001b[39;00m has_torch_function_unary(\u001b[38;5;28mself\u001b[39m):\n\u001b[1;32m    388\u001b[0m     \u001b[38;5;28;01mreturn\u001b[39;00m handle_torch_function(\n\u001b[1;32m    389\u001b[0m         Tensor\u001b[38;5;241m.\u001b[39mbackward,\n\u001b[1;32m    390\u001b[0m         (\u001b[38;5;28mself\u001b[39m,),\n\u001b[0;32m   (...)\u001b[0m\n\u001b[1;32m    394\u001b[0m         create_graph\u001b[38;5;241m=\u001b[39mcreate_graph,\n\u001b[1;32m    395\u001b[0m         inputs\u001b[38;5;241m=\u001b[39minputs)\n\u001b[0;32m--> 396\u001b[0m \u001b[43mtorch\u001b[49m\u001b[38;5;241;43m.\u001b[39;49m\u001b[43mautograd\u001b[49m\u001b[38;5;241;43m.\u001b[39;49m\u001b[43mbackward\u001b[49m\u001b[43m(\u001b[49m\u001b[38;5;28;43mself\u001b[39;49m\u001b[43m,\u001b[49m\u001b[43m \u001b[49m\u001b[43mgradient\u001b[49m\u001b[43m,\u001b[49m\u001b[43m \u001b[49m\u001b[43mretain_graph\u001b[49m\u001b[43m,\u001b[49m\u001b[43m \u001b[49m\u001b[43mcreate_graph\u001b[49m\u001b[43m,\u001b[49m\u001b[43m \u001b[49m\u001b[43minputs\u001b[49m\u001b[38;5;241;43m=\u001b[39;49m\u001b[43minputs\u001b[49m\u001b[43m)\u001b[49m\n",
      "File \u001b[0;32m~/miniconda3/lib/python3.9/site-packages/torch/autograd/__init__.py:173\u001b[0m, in \u001b[0;36mbackward\u001b[0;34m(tensors, grad_tensors, retain_graph, create_graph, grad_variables, inputs)\u001b[0m\n\u001b[1;32m    168\u001b[0m     retain_graph \u001b[38;5;241m=\u001b[39m create_graph\n\u001b[1;32m    170\u001b[0m \u001b[38;5;66;03m# The reason we repeat same the comment below is that\u001b[39;00m\n\u001b[1;32m    171\u001b[0m \u001b[38;5;66;03m# some Python versions print out the first line of a multi-line function\u001b[39;00m\n\u001b[1;32m    172\u001b[0m \u001b[38;5;66;03m# calls in the traceback and some print out the last line\u001b[39;00m\n\u001b[0;32m--> 173\u001b[0m \u001b[43mVariable\u001b[49m\u001b[38;5;241;43m.\u001b[39;49m\u001b[43m_execution_engine\u001b[49m\u001b[38;5;241;43m.\u001b[39;49m\u001b[43mrun_backward\u001b[49m\u001b[43m(\u001b[49m\u001b[43m  \u001b[49m\u001b[38;5;66;43;03m# Calls into the C++ engine to run the backward pass\u001b[39;49;00m\n\u001b[1;32m    174\u001b[0m \u001b[43m    \u001b[49m\u001b[43mtensors\u001b[49m\u001b[43m,\u001b[49m\u001b[43m \u001b[49m\u001b[43mgrad_tensors_\u001b[49m\u001b[43m,\u001b[49m\u001b[43m \u001b[49m\u001b[43mretain_graph\u001b[49m\u001b[43m,\u001b[49m\u001b[43m \u001b[49m\u001b[43mcreate_graph\u001b[49m\u001b[43m,\u001b[49m\u001b[43m \u001b[49m\u001b[43minputs\u001b[49m\u001b[43m,\u001b[49m\n\u001b[1;32m    175\u001b[0m \u001b[43m    \u001b[49m\u001b[43mallow_unreachable\u001b[49m\u001b[38;5;241;43m=\u001b[39;49m\u001b[38;5;28;43;01mTrue\u001b[39;49;00m\u001b[43m,\u001b[49m\u001b[43m \u001b[49m\u001b[43maccumulate_grad\u001b[49m\u001b[38;5;241;43m=\u001b[39;49m\u001b[38;5;28;43;01mTrue\u001b[39;49;00m\u001b[43m)\u001b[49m\n",
      "\u001b[0;31mKeyboardInterrupt\u001b[0m: "
     ]
    }
   ],
   "source": [
    "import torch.optim as optim\n",
    "import neuralnetwork.fcn as fcn\n",
    "import os , glob\n",
    "import utilities.utilities as util\n",
    "import torch\n",
    "import torch.nn as nn\n",
    "import torch.nn.functional as F\n",
    "from datetime import datetime\n",
    "from tqdm import tqdm\n",
    "\n",
    "############ Set the Hyper parameters ###########\n",
    "\n",
    "EPOCHS = 200\n",
    "max_char = 102\n",
    "num_lines_predict = fcn.num_lines_predict\n",
    "############ Set the Paths ######################\n",
    "\n",
    "data_path = './matlib'\n",
    "preprocess_path = './preprocess'\n",
    "\n",
    "#### Generate txt files #########################\n",
    "data_path = './matlib'\n",
    "preprocess_path = './preprocess'\n",
    "p = glob.glob(data_path + '/*', recursive = True)\n",
    "for path in p:\n",
    "    for filename in glob.glob(os.path.join(path, '*.lean')):\n",
    "        util.preprocess(filename, preprocess_path, data_path)\n",
    "    \n",
    "#################################################\n",
    "net = fcn.Net()\n",
    "\n",
    "optimizer = optim.Adam(net.parameters(), lr=0.001)\n",
    "loss=0\n",
    "loss_list = []\n",
    "\n",
    "for epoch in range(EPOCHS):\n",
    "    print('training epoch number ',epoch)\n",
    "    text = util.list_lines(\"./preprocess/algebra-associated.txt\")\n",
    "    en_text = util.encode_text_line(text, max_char)\n",
    "    for i in range(len(text)-num_lines_predict-1):\n",
    "        #choose \n",
    "        X = en_text[i:i+num_lines_predict]\n",
    "        y = en_text[i+num_lines_predict]\n",
    "\n",
    "        X = torch.FloatTensor(X)\n",
    "        y = torch.FloatTensor(y)\n",
    "\n",
    "        net.zero_grad()\n",
    "        output = net(X.view(-1, max_char*num_lines_predict))\n",
    "\n",
    "        loss = F.mse_loss(output, y)\n",
    "        loss.backward()\n",
    "        optimizer.step()\n",
    "    writer.add_scalar(\"Loss/train\", loss, epoch)\n",
    "    writer.flush()  \n",
    "    print('loss for ',epoch,' epochs : ',loss)\n",
    "    loss_list.append(loss.item())\n",
    "  "
   ]
  },
  {
   "cell_type": "code",
   "execution_count": null,
   "id": "7967d461-37dc-4ba3-a552-39ec6bf77a74",
   "metadata": {},
   "outputs": [],
   "source": []
  }
 ],
 "metadata": {
  "kernelspec": {
   "display_name": "Python 3",
   "language": "python",
   "name": "python3"
  },
  "language_info": {
   "codemirror_mode": {
    "name": "ipython",
    "version": 3
   },
   "file_extension": ".py",
   "mimetype": "text/x-python",
   "name": "python",
   "nbconvert_exporter": "python",
   "pygments_lexer": "ipython3",
   "version": "3.9.7"
  }
 },
 "nbformat": 4,
 "nbformat_minor": 5
}
