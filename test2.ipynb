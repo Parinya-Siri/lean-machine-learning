{
 "cells": [
  {
   "cell_type": "code",
   "execution_count": 76,
   "id": "d080cbc0-e7ba-4f77-9107-2d2605724a70",
   "metadata": {},
   "outputs": [],
   "source": [
    "import os , glob\n",
    "import utilities.utilities as util\n",
    "data_path = './matlib'\n",
    "preprocess_path = './preprocess'\n",
    "p = glob.glob(data_path + '/*', recursive = True)\n",
    "for path in p:\n",
    "    for filename in glob.glob(os.path.join(path, '*.lean')):\n",
    "        util.preprocess(filename, preprocess_path, data_path)"
   ]
  },
  {
   "cell_type": "code",
   "execution_count": 2,
   "id": "dfe40d29-6bf1-4678-8742-7f7db0befe9b",
   "metadata": {},
   "outputs": [
    {
     "name": "stdout",
     "output_type": "stream",
     "text": [
      "[(Token.Keyword.Declaration, 'universes'), (Token.Text, ' '), (Token.Name, 'u'), (Token.Text, ' '), (Token.Name, 'v'), (Token.Text, ' '), (Token.Name, 'w'), (Token.Text, '\\n\\n'), (Token.Keyword.Namespace, 'namespace'), (Token.Text, ' '), (Token.Name, 'algebra'), (Token.Text, '\\n\\n'), (Token.Name, 'open_locale'), (Token.Text, ' '), (Token.Name, 'tensor_product'), (Token.Text, '\\n'), (Token.Keyword.Namespace, 'open'), (Token.Text, ' '), (Token.Name, 'module'), (Token.Text, '\\n\\n'), (Token.Keyword.Namespace, 'section'), (Token.Text, '\\n\\n'), (Token.Keyword.Declaration, 'variables'), (Token.Text, ' '), (Token.Operator, '('), (Token.Name, 'R'), (Token.Text, ' '), (Token.Name, 'A'), (Token.Text, ' '), (Token.Operator, ':'), (Token.Text, ' '), (Token.Keyword.Type, 'Type'), (Token.Name.Builtin.Pseudo, '*'), (Token.Operator, ')'), (Token.Text, ' '), (Token.Operator, '['), (Token.Name, 'comm_semiring'), (Token.Text, ' '), (Token.Name, 'R'), (Token.Operator, ']'), (Token.Text, ' '), (Token.Operator, '['), (Token.Name, 'semiring'), (Token.Text, ' '), (Token.Name, 'A'), (Token.Operator, ']'), (Token.Text, ' '), (Token.Operator, '['), (Token.Name, 'algebra'), (Token.Text, ' '), (Token.Name, 'R'), (Token.Text, ' '), (Token.Name, 'A'), (Token.Operator, ']'), (Token.Text, '\\n\\n'), (Token.Literal.String.Doc, '/--'), (Token.Literal.String.Doc, ' '), (Token.Literal.String.Doc, 'T'), (Token.Literal.String.Doc, 'h'), (Token.Literal.String.Doc, 'e'), (Token.Literal.String.Doc, ' '), (Token.Literal.String.Doc, 'm'), (Token.Literal.String.Doc, 'u'), (Token.Literal.String.Doc, 'l'), (Token.Literal.String.Doc, 't'), (Token.Literal.String.Doc, 'i'), (Token.Literal.String.Doc, 'p'), (Token.Literal.String.Doc, 'l'), (Token.Literal.String.Doc, 'i'), (Token.Literal.String.Doc, 'c'), (Token.Literal.String.Doc, 'a'), (Token.Literal.String.Doc, 't'), (Token.Literal.String.Doc, 'i'), (Token.Literal.String.Doc, 'o'), (Token.Literal.String.Doc, 'n'), (Token.Literal.String.Doc, ' '), (Token.Literal.String.Doc, 'i'), (Token.Literal.String.Doc, 'n'), (Token.Literal.String.Doc, ' '), (Token.Literal.String.Doc, 'a'), (Token.Literal.String.Doc, 'n'), (Token.Literal.String.Doc, ' '), (Token.Literal.String.Doc, 'a'), (Token.Literal.String.Doc, 'l'), (Token.Literal.String.Doc, 'g'), (Token.Literal.String.Doc, 'e'), (Token.Literal.String.Doc, 'b'), (Token.Literal.String.Doc, 'r'), (Token.Literal.String.Doc, 'a'), (Token.Literal.String.Doc, ' '), (Token.Literal.String.Doc, 'i'), (Token.Literal.String.Doc, 's'), (Token.Literal.String.Doc, ' '), (Token.Literal.String.Doc, 'a'), (Token.Literal.String.Doc, ' '), (Token.Literal.String.Doc, 'b'), (Token.Literal.String.Doc, 'i'), (Token.Literal.String.Doc, 'l'), (Token.Literal.String.Doc, 'i'), (Token.Literal.String.Doc, 'n'), (Token.Literal.String.Doc, 'e'), (Token.Literal.String.Doc, 'a'), (Token.Literal.String.Doc, 'r'), (Token.Literal.String.Doc, ' '), (Token.Literal.String.Doc, 'm'), (Token.Literal.String.Doc, 'a'), (Token.Literal.String.Doc, 'p'), (Token.Literal.String.Doc, '.'), (Token.Literal.String.Doc, '\\n'), (Token.Literal.String.Doc, '\\n'), (Token.Literal.String.Doc, 'A'), (Token.Literal.String.Doc, ' '), (Token.Literal.String.Doc, 'w'), (Token.Literal.String.Doc, 'e'), (Token.Literal.String.Doc, 'a'), (Token.Literal.String.Doc, 'k'), (Token.Literal.String.Doc, 'e'), (Token.Literal.String.Doc, 'r'), (Token.Literal.String.Doc, ' '), (Token.Literal.String.Doc, 'v'), (Token.Literal.String.Doc, 'e'), (Token.Literal.String.Doc, 'r'), (Token.Literal.String.Doc, 's'), (Token.Literal.String.Doc, 'i'), (Token.Literal.String.Doc, 'o'), (Token.Literal.String.Doc, 'n'), (Token.Literal.String.Doc, ' '), (Token.Literal.String.Doc, 'o'), (Token.Literal.String.Doc, 'f'), (Token.Literal.String.Doc, ' '), (Token.Literal.String.Doc, 't'), (Token.Literal.String.Doc, 'h'), (Token.Literal.String.Doc, 'i'), (Token.Literal.String.Doc, 's'), (Token.Literal.String.Doc, ' '), (Token.Literal.String.Doc, 'f'), (Token.Literal.String.Doc, 'o'), (Token.Literal.String.Doc, 'r'), (Token.Literal.String.Doc, ' '), (Token.Literal.String.Doc, 's'), (Token.Literal.String.Doc, 'e'), (Token.Literal.String.Doc, 'm'), (Token.Literal.String.Doc, 'i'), (Token.Literal.String.Doc, 'r'), (Token.Literal.String.Doc, 'i'), (Token.Literal.String.Doc, 'n'), (Token.Literal.String.Doc, 'g'), (Token.Literal.String.Doc, 's'), (Token.Literal.String.Doc, ' '), (Token.Literal.String.Doc, 'e'), (Token.Literal.String.Doc, 'x'), (Token.Literal.String.Doc, 'i'), (Token.Literal.String.Doc, 's'), (Token.Literal.String.Doc, 't'), (Token.Literal.String.Doc, 's'), (Token.Literal.String.Doc, ' '), (Token.Literal.String.Doc, 'a'), (Token.Literal.String.Doc, 's'), (Token.Literal.String.Doc, ' '), (Token.Literal.String.Doc, '`'), (Token.Literal.String.Doc, 'a'), (Token.Literal.String.Doc, 'd'), (Token.Literal.String.Doc, 'd'), (Token.Literal.String.Doc, '_'), (Token.Literal.String.Doc, 'm'), (Token.Literal.String.Doc, 'o'), (Token.Literal.String.Doc, 'n'), (Token.Literal.String.Doc, 'o'), (Token.Literal.String.Doc, 'i'), (Token.Literal.String.Doc, 'd'), (Token.Literal.String.Doc, '_'), (Token.Literal.String.Doc, 'h'), (Token.Literal.String.Doc, 'o'), (Token.Literal.String.Doc, 'm'), (Token.Literal.String.Doc, '.'), (Token.Literal.String.Doc, 'm'), (Token.Literal.String.Doc, 'u'), (Token.Literal.String.Doc, 'l'), (Token.Literal.String.Doc, '`'), (Token.Literal.String.Doc, '.'), (Token.Literal.String.Doc, ' '), (Token.Literal.String.Doc, '-/'), (Token.Text, '\\n'), (Token.Keyword.Declaration, 'def'), (Token.Text, ' '), (Token.Name, 'lmul'), (Token.Text, ' '), (Token.Operator, ':'), (Token.Text, ' '), (Token.Name, 'A'), (Token.Text, ' '), (Token.Name.Builtin.Pseudo, '→'), (Token.Name.Builtin.Pseudo, 'ₐ'), (Token.Operator, '['), (Token.Name, 'R'), (Token.Operator, ']'), (Token.Text, ' '), (Token.Operator, '('), (Token.Name, 'End'), (Token.Text, ' '), (Token.Name, 'R'), (Token.Text, ' '), (Token.Name, 'A'), (Token.Operator, ')'), (Token.Text, ' '), (Token.Operator, ':='), (Token.Text, '\\n'), (Token.Operator, '{'), (Token.Text, ' '), (Token.Name, \"map_one'\"), (Token.Text, ' '), (Token.Operator, ':='), (Token.Text, ' '), (Token.Keyword.Declaration, 'by'), (Token.Text, ' '), (Token.Operator, '{'), (Token.Text, ' '), (Token.Name, 'ext'), (Token.Text, ' '), (Token.Name, 'a'), (Token.Operator, ','), (Token.Text, ' '), (Token.Name, 'exact'), (Token.Text, ' '), (Token.Name, 'one_mul'), (Token.Text, ' '), (Token.Name, 'a'), (Token.Text, ' '), (Token.Operator, '}'), (Token.Operator, ','), (Token.Text, '\\n  '), (Token.Name, \"map_mul'\"), (Token.Text, ' '), (Token.Operator, ':='), (Token.Text, ' '), (Token.Keyword.Declaration, 'by'), (Token.Text, ' '), (Token.Operator, '{'), (Token.Text, ' '), (Token.Name, 'intros'), (Token.Text, ' '), (Token.Name, 'a'), (Token.Text, ' '), (Token.Name, 'b'), (Token.Operator, ','), (Token.Text, ' '), (Token.Name, 'ext'), (Token.Text, ' '), (Token.Name, 'c'), (Token.Operator, ','), (Token.Text, ' '), (Token.Name, 'exact'), (Token.Text, ' '), (Token.Name, 'mul_assoc'), (Token.Text, ' '), (Token.Name, 'a'), (Token.Text, ' '), (Token.Name, 'b'), (Token.Text, ' '), (Token.Name, 'c'), (Token.Text, ' '), (Token.Operator, '}'), (Token.Operator, ','), (Token.Text, '\\n  '), (Token.Name, \"map_zero'\"), (Token.Text, ' '), (Token.Operator, ':='), (Token.Text, ' '), (Token.Keyword.Declaration, 'by'), (Token.Text, ' '), (Token.Operator, '{'), (Token.Text, ' '), (Token.Name, 'ext'), (Token.Text, ' '), (Token.Name, 'a'), (Token.Operator, ','), (Token.Text, ' '), (Token.Name, 'exact'), (Token.Text, ' '), (Token.Name, 'zero_mul'), (Token.Text, ' '), (Token.Name, 'a'), (Token.Text, ' '), (Token.Operator, '}'), (Token.Operator, ','), (Token.Text, '\\n  '), (Token.Name, \"commutes'\"), (Token.Text, ' '), (Token.Operator, ':='), (Token.Text, ' '), (Token.Keyword.Declaration, 'by'), (Token.Text, ' '), (Token.Operator, '{'), (Token.Text, ' '), (Token.Name, 'intro'), (Token.Text, ' '), (Token.Name, 'r'), (Token.Operator, ','), (Token.Text, ' '), (Token.Name, 'ext'), (Token.Text, ' '), (Token.Name, 'a'), (Token.Operator, ','), (Token.Text, ' '), (Token.Name, 'dsimp'), (Token.Operator, ','), (Token.Text, ' '), (Token.Name, 'rw'), (Token.Text, ' '), (Token.Operator, '['), (Token.Name, 'smul_def'), (Token.Operator, ']'), (Token.Text, ' '), (Token.Operator, '}'), (Token.Operator, ','), (Token.Text, '\\n  '), (Token.Name.Builtin.Pseudo, '.'), (Token.Name.Builtin.Pseudo, '.'), (Token.Text, ' '), (Token.Operator, '('), (Token.Keyword, 'show'), (Token.Text, ' '), (Token.Name, 'A'), (Token.Text, ' '), (Token.Name.Builtin.Pseudo, '→'), (Token.Name.Builtin.Pseudo, 'ₗ'), (Token.Operator, '['), (Token.Name, 'R'), (Token.Operator, ']'), (Token.Text, ' '), (Token.Name, 'A'), (Token.Text, ' '), (Token.Name.Builtin.Pseudo, '→'), (Token.Name.Builtin.Pseudo, 'ₗ'), (Token.Operator, '['), (Token.Name, 'R'), (Token.Operator, ']'), (Token.Text, ' '), (Token.Name, 'A'), (Token.Operator, ','), (Token.Text, ' '), (Token.Keyword, 'from'), (Token.Text, ' '), (Token.Name, 'linear_map.mk₂'), (Token.Text, ' '), (Token.Name, 'R'), (Token.Text, ' '), (Token.Operator, '('), (Token.Name.Builtin.Pseudo, '*'), (Token.Operator, ')'), (Token.Text, '\\n  '), (Token.Operator, '('), (Token.Name.Builtin.Pseudo, 'λ'), (Token.Text, ' '), (Token.Name, 'x'), (Token.Text, ' '), (Token.Name, 'y'), (Token.Text, ' '), (Token.Name, 'z'), (Token.Operator, ','), (Token.Text, ' '), (Token.Name, 'add_mul'), (Token.Text, ' '), (Token.Name, 'x'), (Token.Text, ' '), (Token.Name, 'y'), (Token.Text, ' '), (Token.Name, 'z'), (Token.Operator, ')'), (Token.Text, '\\n  '), (Token.Operator, '('), (Token.Name.Builtin.Pseudo, 'λ'), (Token.Text, ' '), (Token.Name, 'c'), (Token.Text, ' '), (Token.Name, 'x'), (Token.Text, ' '), (Token.Name, 'y'), (Token.Operator, ','), (Token.Text, ' '), (Token.Keyword.Declaration, 'by'), (Token.Text, ' '), (Token.Name, 'rw'), (Token.Text, ' '), (Token.Operator, '['), (Token.Name, 'smul_def'), (Token.Operator, ','), (Token.Text, ' '), (Token.Name, 'smul_def'), (Token.Operator, ','), (Token.Text, ' '), (Token.Name, 'mul_assoc'), (Token.Text, ' '), (Token.Name, '_'), (Token.Text, ' '), (Token.Name, 'x'), (Token.Text, ' '), (Token.Name, 'y'), (Token.Operator, ']'), (Token.Operator, ')'), (Token.Text, '\\n  '), (Token.Operator, '('), (Token.Name.Builtin.Pseudo, 'λ'), (Token.Text, ' '), (Token.Name, 'x'), (Token.Text, ' '), (Token.Name, 'y'), (Token.Text, ' '), (Token.Name, 'z'), (Token.Operator, ','), (Token.Text, ' '), (Token.Name, 'mul_add'), (Token.Text, ' '), (Token.Name, 'x'), (Token.Text, ' '), (Token.Name, 'y'), (Token.Text, ' '), (Token.Name, 'z'), (Token.Operator, ')'), (Token.Text, '\\n  '), (Token.Operator, '('), (Token.Name.Builtin.Pseudo, 'λ'), (Token.Text, ' '), (Token.Name, 'c'), (Token.Text, ' '), (Token.Name, 'x'), (Token.Text, ' '), (Token.Name, 'y'), (Token.Operator, ','), (Token.Text, ' '), (Token.Keyword.Declaration, 'by'), (Token.Text, ' '), (Token.Name, 'rw'), (Token.Text, ' '), (Token.Operator, '['), (Token.Name, 'smul_def'), (Token.Operator, ','), (Token.Text, ' '), (Token.Name, 'smul_def'), (Token.Operator, ','), (Token.Text, ' '), (Token.Name, 'left_comm'), (Token.Operator, ']'), (Token.Operator, ')'), (Token.Operator, ')'), (Token.Text, ' '), (Token.Operator, '}'), (Token.Text, '\\n')]\n"
     ]
    }
   ],
   "source": [
    "from pygments import lex\n",
    "from pygments.lexers import theorem\n",
    "\n",
    "lean = theorem.LeanLexer()\n",
    "\n",
    "def getTokens(code):\n",
    "    return lex(code,lexer=lean)\n",
    "\n",
    "#test\n",
    "test_string = \"\"\"\n",
    "universes u v w\n",
    "\n",
    "namespace algebra\n",
    "\n",
    "open_locale tensor_product\n",
    "open module\n",
    "\n",
    "section\n",
    "\n",
    "variables (R A : Type*) [comm_semiring R] [semiring A] [algebra R A]\n",
    "\n",
    "/-- The multiplication in an algebra is a bilinear map.\n",
    "\n",
    "A weaker version of this for semirings exists as `add_monoid_hom.mul`. -/\n",
    "def lmul : A →ₐ[R] (End R A) :=\n",
    "{ map_one' := by { ext a, exact one_mul a },\n",
    "  map_mul' := by { intros a b, ext c, exact mul_assoc a b c },\n",
    "  map_zero' := by { ext a, exact zero_mul a },\n",
    "  commutes' := by { intro r, ext a, dsimp, rw [smul_def] },\n",
    "  .. (show A →ₗ[R] A →ₗ[R] A, from linear_map.mk₂ R (*)\n",
    "  (λ x y z, add_mul x y z)\n",
    "  (λ c x y, by rw [smul_def, smul_def, mul_assoc _ x y])\n",
    "  (λ x y z, mul_add x y z)\n",
    "  (λ c x y, by rw [smul_def, smul_def, left_comm])) }\n",
    "\"\"\"\n",
    "\n",
    "if __name__ == \"__main__\":\n",
    "    print(list(getTokens(test_string)))\n",
    "    #for token in getTokens(test_string):\n",
    "    #    print(token[1])\n",
    "\n"
   ]
  },
  {
   "cell_type": "code",
   "execution_count": 8,
   "id": "8c46555d-0712-4bc8-bdcf-3c381717c1cc",
   "metadata": {},
   "outputs": [
    {
     "name": "stdout",
     "output_type": "stream",
     "text": [
      "[]\n"
     ]
    },
    {
     "data": {
      "text/plain": [
       "2513"
      ]
     },
     "execution_count": 8,
     "metadata": {},
     "output_type": "execute_result"
    }
   ],
   "source": [
    "p = os.walk(data_path)\n",
    "fps=[]\n",
    "for i,j,k in p:\n",
    "    for f in k:\n",
    "        fp=os.path.join(i,f)\n",
    "        fps.append(fp)"
   ]
  },
  {
   "cell_type": "code",
   "execution_count": null,
   "id": "c57206ce-2fab-41ed-97e0-595100ec94ec",
   "metadata": {},
   "outputs": [],
   "source": []
  }
 ],
 "metadata": {
  "kernelspec": {
   "display_name": "Python 3",
   "language": "python",
   "name": "python3"
  },
  "language_info": {
   "codemirror_mode": {
    "name": "ipython",
    "version": 3
   },
   "file_extension": ".py",
   "mimetype": "text/x-python",
   "name": "python",
   "nbconvert_exporter": "python",
   "pygments_lexer": "ipython3",
   "version": "3.9.7"
  }
 },
 "nbformat": 4,
 "nbformat_minor": 5
}
