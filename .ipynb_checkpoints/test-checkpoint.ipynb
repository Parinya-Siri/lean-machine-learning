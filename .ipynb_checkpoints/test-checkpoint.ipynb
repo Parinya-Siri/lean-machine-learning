{
 "cells": [
  {
   "cell_type": "code",
   "execution_count": 28,
   "id": "8bc70bd8-3147-497b-873a-3386a21e988e",
   "metadata": {},
   "outputs": [
    {
     "data": {
      "text/plain": [
       "80"
      ]
     },
     "execution_count": 28,
     "metadata": {},
     "output_type": "execute_result"
    }
   ],
   "source": [
    "f = open('./preprocess/bilinear.txt','r')\n",
    "text_emb = []\n",
    "for line in f:\n",
    "    line_text = [ord(i) for i in line]\n",
    "    while len(line_text) < 80: #padding\n",
    "        line_text.insert(0,0)\n",
    "    text_emb.append(line_text)\n",
    "text_emb[1]\n",
    "len(text_emb[2])\n",
    "    \n",
    "# for lines in f:\n",
    "#     [ord(i) for i in 'def lmul : A →ₐ[R] (End R A) :=']"
   ]
  },
  {
   "cell_type": "code",
   "execution_count": 46,
   "id": "f3110893-7aa9-4f16-93b2-a87d0a289cda",
   "metadata": {},
   "outputs": [],
   "source": [
    "import os , glob\n",
    "import utilities.utilities as util\n",
    "data_path = './matlib'\n",
    "preprocess_path = './preprocess'\n",
    "\n",
    "for filename in glob.glob(os.path.join(data_path, '*.lean')):\n",
    "    util.preprocess(filename, preprocess_path, data_path)"
   ]
  },
  {
   "cell_type": "code",
   "execution_count": 1,
   "id": "498eff64-ba29-4b9a-9023-ac7fe722fb9e",
   "metadata": {},
   "outputs": [],
   "source": [
    "import os , glob\n",
    "import utilities.utilities as util"
   ]
  },
  {
   "cell_type": "code",
   "execution_count": 2,
   "id": "43a23666-9b26-41c9-9644-5fa4280974cb",
   "metadata": {},
   "outputs": [
    {
     "name": "stdout",
     "output_type": "stream",
     "text": [
      "accuracy = 0.0\n",
      "102\n"
     ]
    }
   ],
   "source": [
    "### Path #####\n",
    "data_path = './matlib'\n",
    "preprocess_path = './preprocess'\n",
    "text_path = './preprocess/bilinear.txt'\n",
    "\n",
    "\n",
    "#### Hyper parameter #####\n",
    "prediction_type = 0 #the type of prediction\n",
    "num_lines_predict = 10 #the number of lines for prediction\n",
    "\n",
    "#### Generate txt files #######\n",
    "for filename in glob.glob(os.path.join(data_path, '*.lean')):\n",
    "    util.preprocess(filename, preprocess_path, data_path)\n",
    "\n",
    "#### read txt files as list ######\n",
    "text = util.list_lines(text_path)\n",
    "# print('total line', len(text),'text is @@@@@@@@')\n",
    "# for j in text:\n",
    "#     print(j)\n",
    "\n",
    "#### evaluate the accuracy #####\n",
    "print('accuracy =', util.evaluate(text, prediction_type, num_lines_predict))\n",
    "  \n",
    "test01 = util.encode_text_line(text)\n",
    "print(len(test01[0]))"
   ]
  },
  {
   "cell_type": "code",
   "execution_count": 2,
   "id": "6cc67016-8a96-4ab1-9f06-3776cf946daa",
   "metadata": {},
   "outputs": [
    {
     "name": "stdout",
     "output_type": "stream",
     "text": [
      "Net(\n",
      "  (fc1): Linear(in_features=1020, out_features=2048, bias=True)\n",
      "  (fc2): Linear(in_features=2048, out_features=512, bias=True)\n",
      "  (fc3): Linear(in_features=512, out_features=256, bias=True)\n",
      "  (fc4): Linear(in_features=256, out_features=102, bias=True)\n",
      ")\n"
     ]
    }
   ],
   "source": [
    "import torch\n",
    "import torch.nn as nn\n",
    "import torch.nn.functional as F\n",
    "class Net(nn.Module):\n",
    "    def __init__(self):\n",
    "        super().__init__()\n",
    "        self.fc1 = nn.Linear(102*10, 2048)\n",
    "        self.fc2 = nn.Linear(2048, 512)\n",
    "        self.fc3 = nn.Linear(512, 256)\n",
    "        self.fc4 = nn.Linear(256, 102)\n",
    "    \n",
    "    def forward(self, x):\n",
    "        x = F.relu(self.fc1(x))\n",
    "        x = F.relu(self.fc2(x))\n",
    "        x = F.relu(self.fc3(x))\n",
    "        x = self.fc4(x)\n",
    "        \n",
    "        return x\n",
    "net = Net()\n",
    "print(net)\n",
    "    "
   ]
  },
  {
   "cell_type": "code",
   "execution_count": 12,
   "id": "6c62d330-cb2d-4a3a-9296-24b60c625f59",
   "metadata": {
    "tags": []
   },
   "outputs": [
    {
     "name": "stdout",
     "output_type": "stream",
     "text": [
      "0\n"
     ]
    },
    {
     "name": "stderr",
     "output_type": "stream",
     "text": [
      "<ipython-input-12-d059cf8c70ee>:31: UserWarning: Using a target size (torch.Size([102])) that is different to the input size (torch.Size([1, 102])). This will likely lead to incorrect results due to broadcasting. Please ensure they have the same size.\n",
      "  loss = F.mse_loss(output, y)\n"
     ]
    },
    {
     "name": "stdout",
     "output_type": "stream",
     "text": [
      "tensor(1024.0367, grad_fn=<MseLossBackward0>)\n",
      "tensor(4445.4863, grad_fn=<MseLossBackward0>)\n",
      "tensor(3842.2334, grad_fn=<MseLossBackward0>)\n",
      "tensor(123205.8438, grad_fn=<MseLossBackward0>)\n"
     ]
    }
   ],
   "source": [
    "import torch.optim as optim\n",
    "\n",
    "optimizer = optim.Adam(net.parameters(), lr=0.001)\n",
    "data_path = './matlib'\n",
    "preprocess_path = './preprocess'\n",
    "\n",
    "EPOCHS = 1\n",
    "num_lines_predict = 10\n",
    "\n",
    "for epoch in range(EPOCHS):\n",
    "    l=0\n",
    "    loss=0\n",
    "    for filename in glob.glob(os.path.join(preprocess_path, '*.txt')): \n",
    "        text = util.list_lines(filename)\n",
    "        en_text = util.encode_text_line(text)\n",
    "        if l < 5:\n",
    "            for i in range(len(text)-num_lines_predict-1):\n",
    "                if l < 5:\n",
    "                    #choose \n",
    "                    X = en_text[i:i+num_lines_predict]\n",
    "                    y = en_text[i+num_lines_predict]\n",
    "                    # X = []\n",
    "                    # for i in chosen:\n",
    "                    #     X += i\n",
    "                    X = torch.FloatTensor(X)\n",
    "                    y = torch.FloatTensor(y)\n",
    "                    net.zero_grad()\n",
    "                    output = net(X.view(-1, 102*num_lines_predict))\n",
    "                    # print(y.size())\n",
    "                    # print(X.view(-1,80*num_lines_predict))\n",
    "                    loss = F.mse_loss(output, y)\n",
    "                    loss.backward()\n",
    "                    optimizer.step()\n",
    "                    \n",
    "            l+=1\n",
    "            print(loss)"
   ]
  },
  {
   "cell_type": "code",
   "execution_count": 15,
   "id": "c3269597-03bc-4385-ae72-13e68d9f319d",
   "metadata": {},
   "outputs": [
    {
     "data": {
      "text/plain": [
       "tensor(123205.8438, grad_fn=<MseLossBackward0>)"
      ]
     },
     "execution_count": 15,
     "metadata": {},
     "output_type": "execute_result"
    }
   ],
   "source": [
    "loss"
   ]
  },
  {
   "cell_type": "code",
   "execution_count": 9,
   "id": "2641e6d5-adde-49a0-89fc-a4ecafa991b8",
   "metadata": {},
   "outputs": [
    {
     "name": "stdout",
     "output_type": "stream",
     "text": [
      "[[6, 0, 4, 11, 0, 8, 20, 27, 13, 27, 18, 0, 12, 224, 12, 43, 12, 29, 28, 34, 15, 13, 43, 11, 40, 23, 20, 66, 68, 42, 27, 48, 20, 25, 26, 32, 60, 41, 75, 29, 0, 37, 35, 141, 92, 49, 30, 82, 0, 179, 279, 45, 31, 88, 22, 16, 39, 149, 5, 147, 64, 375, 46, 67, 12, 310, 63, 62, 90, 38, 0, 231, 42, 303, 78, 364, 296, 124, 1238, 82, 0, 91, 792, 9, 612, 112, 742, 318, 91, 664, 669, 91, 239, 96, 392, 7599, 10, 327, 91, 174, 231, 20]] \n",
      " ['\\x06\\x00\\x04\\x0b\\x00\\x08\\x14\\x1b\\r\\x1b\\x12\\x00\\x0cà\\x0c+\\x0c\\x1d\\x1c\"\\x0f\\r+\\x0b(\\x17\\x14BD*\\x1b0\\x14\\x19\\x1a <)K\\x1d\\x00%#\\x8d\\\\1\\x1eR\\x00³ė-\\x1fX\\x16\\x10\\'\\x95\\x05\\x93@ŷ.C\\x0cĶ?>Z&\\x00ç*įNŬĨ|ӖR\\x00[̘\\tɤp˦ľ[ʘʝ[ï`ƈᶯ\\nŇ[®ç\\x14']\n"
     ]
    }
   ],
   "source": [
    "import torch\n",
    "import torch.nn as nn\n",
    "import torch.nn.functional as F\n",
    "import utilities.utilities as util\n",
    "num_lines_predict = 10\n",
    "net = torch.load(\"./runs/08-08-2022-2048-1024-512-256/epoch-225.pth\")\n",
    "test = util.list_lines(\"./preprocess/algebra-associated.txt\")\n",
    "en_test = util.encode_text_line(test)\n",
    "# X = en_test[2:2+num_lines_predict]\n",
    "# X = torch.FloatTensor(X)\n",
    "# print(X.view(-1,102*num_lines_predict).tolist())\n",
    "prediction = net(X.view(-1,102*num_lines_predict))\n",
    "# print(prediction.size(),'\\n',prediction)\n",
    "prediction, numbertext = util.decode_text_line(prediction.tolist())\n",
    "# prediction =  prediction.tolist()\n",
    "for i in range(len(en_test)-num_lines_predict):\n",
    "    X = en_test[i:i+num_lines_predict]\n",
    "    ans = en_test[i+num_lines_predict]\n",
    "    X = torch.FloatTensor(X)\n",
    "    prediction = net(X.view(-1,102*num_lines_predict))\n",
    "    prediction, numbertext = util.decode_text_line(prediction.tolist())\n",
    "    expected, numbertext2 = util.decode_text_line(ans)\n",
    "    print('expected answer \\n', expected ,'\\n prediction \\n',prediction)"
   ]
  },
  {
   "cell_type": "code",
   "execution_count": 10,
   "id": "a628e7fd-5a48-424b-a06a-69929ad6f089",
   "metadata": {},
   "outputs": [
    {
     "data": {
      "text/plain": [
       "729"
      ]
     },
     "execution_count": 10,
     "metadata": {},
     "output_type": "execute_result"
    }
   ],
   "source": [
    "len(en_test)"
   ]
  },
  {
   "cell_type": "code",
   "execution_count": 134,
   "id": "98b9df96-15a6-49db-b53f-29ee415c9f5f",
   "metadata": {},
   "outputs": [
    {
     "name": "stderr",
     "output_type": "stream",
     "text": [
      "<ipython-input-134-afb3cde887cf>:3: UserWarning: Implicit dimension choice for log_softmax has been deprecated. Change the call to include dim=X as an argument.\n",
      "  output = F.nll_loss(F.log_softmax(input), target)\n"
     ]
    }
   ],
   "source": [
    "input = torch.randn(3, 5, requires_grad=True)\n",
    "target = torch.tensor([1, 0, 4])\n",
    "output = F.nll_loss(F.log_softmax(input), target)\n",
    "output.backward()"
   ]
  },
  {
   "cell_type": "code",
   "execution_count": 127,
   "id": "95a67c10-56f7-4995-a5cb-f5570af5b4df",
   "metadata": {},
   "outputs": [
    {
     "data": {
      "text/plain": [
       "tensor([[ 0.8206,  0.3732,  0.7117, -0.7908,  0.3385],\n",
       "        [ 1.1699, -0.0723, -0.0484, -0.9167,  1.9843],\n",
       "        [ 1.0320, -1.5377,  0.5465,  0.5768, -0.5105]], requires_grad=True)"
      ]
     },
     "execution_count": 127,
     "metadata": {},
     "output_type": "execute_result"
    }
   ],
   "source": [
    "input"
   ]
  },
  {
   "cell_type": "code",
   "execution_count": 24,
   "id": "9946f767-8270-40fa-bcca-3032e6a007d6",
   "metadata": {},
   "outputs": [
    {
     "data": {
      "text/plain": [
       "13.237209960755022"
      ]
     },
     "execution_count": 24,
     "metadata": {},
     "output_type": "execute_result"
    }
   ],
   "source": [
    "import math\n",
    "math.log(max(max(test01)),2)"
   ]
  },
  {
   "cell_type": "code",
   "execution_count": 26,
   "id": "ce386973-7b79-4f0c-830b-83b872fcba33",
   "metadata": {},
   "outputs": [
    {
     "data": {
      "text/plain": [
       "9656.000000000005"
      ]
     },
     "execution_count": 26,
     "metadata": {},
     "output_type": "execute_result"
    }
   ],
   "source": [
    "pow(2,13.237209960755022)"
   ]
  },
  {
   "cell_type": "code",
   "execution_count": 27,
   "id": "49057ef2-2895-4a46-87c0-bfc463b316d2",
   "metadata": {},
   "outputs": [
    {
     "data": {
      "text/plain": [
       "'▸'"
      ]
     },
     "execution_count": 27,
     "metadata": {},
     "output_type": "execute_result"
    }
   ],
   "source": [
    "chr(9656)"
   ]
  },
  {
   "cell_type": "code",
   "execution_count": 35,
   "id": "9c25df68-3e35-462b-abe0-08787e79b31d",
   "metadata": {},
   "outputs": [],
   "source": [
    "maxi = 0\n",
    "for filename in glob.glob(os.path.join(preprocess_path, '*.txt')):\n",
    "    text = util.list_lines(filename)\n",
    "    test01 = util.encode_text_line(text)\n",
    "    newmax =  max(max(test01))\n",
    "    if newmax >= maxi:\n",
    "        maxi = newmax\n",
    "        k = filename\n"
   ]
  },
  {
   "cell_type": "code",
   "execution_count": 6,
   "id": "81185f0d-a3f2-4347-9bf0-9f486d0e6ca3",
   "metadata": {},
   "outputs": [],
   "source": [
    "maxi = 0\n",
    "for filename in glob.glob(os.path.join(preprocess_path, '*.txt')):\n",
    "    text = util.list_lines(filename)\n",
    "    test01 = util.encode_text_line(text)\n",
    "    j=0\n",
    "    for line in test01:\n",
    "        j+=1\n",
    "        if len(line) >= maxi:\n",
    "            maxi = len(line)\n",
    "            k = filename\n",
    "            l = j\n",
    "            m = text[j]\n"
   ]
  },
  {
   "cell_type": "code",
   "execution_count": 7,
   "id": "b6c3daea-a89f-4744-8c25-003019b5bed6",
   "metadata": {},
   "outputs": [
    {
     "data": {
      "text/plain": [
       "'./preprocess/field_power.txt'"
      ]
     },
     "execution_count": 7,
     "metadata": {},
     "output_type": "execute_result"
    }
   ],
   "source": [
    "k"
   ]
  },
  {
   "cell_type": "code",
   "execution_count": 8,
   "id": "cbc82d7b-7c53-456f-91f5-cf6dfa13bebd",
   "metadata": {},
   "outputs": [
    {
     "data": {
      "text/plain": [
       "101"
      ]
     },
     "execution_count": 8,
     "metadata": {},
     "output_type": "execute_result"
    }
   ],
   "source": [
    "maxi"
   ]
  },
  {
   "cell_type": "code",
   "execution_count": 10,
   "id": "86e0ae44-dcfd-4efb-a4ee-e60800ea6a0f",
   "metadata": {},
   "outputs": [
    {
     "data": {
      "text/plain": [
       "128"
      ]
     },
     "execution_count": 10,
     "metadata": {},
     "output_type": "execute_result"
    }
   ],
   "source": [
    "j"
   ]
  },
  {
   "cell_type": "code",
   "execution_count": 11,
   "id": "10edad4a-4c90-4883-9397-e407d6497fa2",
   "metadata": {},
   "outputs": [
    {
     "data": {
      "text/plain": [
       "100"
      ]
     },
     "execution_count": 11,
     "metadata": {},
     "output_type": "execute_result"
    }
   ],
   "source": [
    "len('@[simp] lemma zpow_le_iff_le (hx : 1 < x) : x ^ m ≤ x ^ n ↔ m ≤ n := (zpow_strict_mono hx).le_iff_le')"
   ]
  },
  {
   "cell_type": "code",
   "execution_count": null,
   "id": "334a213a-e966-46ed-9d34-aa329411fa26",
   "metadata": {},
   "outputs": [],
   "source": [
    "for i in range(len(text)-num_lines_predict-1):\n",
    "    lines = text[i:i+num_lines_predict]\n",
    "    # print(total,'th comparation between ',predict(lines, prediction_type), 'and',text[i+num_lines_predict] )\n",
    "    if predict(lines, prediction_type) == text[i+num_lines_predict]:\n",
    "        correct +=1"
   ]
  },
  {
   "cell_type": "code",
   "execution_count": 54,
   "id": "7ece41d5-7bc9-4a4e-8d8c-4084bc66c20c",
   "metadata": {},
   "outputs": [
    {
     "data": {
      "text/plain": [
       "[1, 3, 5, 2, 5, 6, 7, 8, 9]"
      ]
     },
     "execution_count": 54,
     "metadata": {},
     "output_type": "execute_result"
    }
   ],
   "source": [
    "lists = [[1,3,5],[2,5,6],[7,8,9]]\n",
    "newlist = []\n",
    "for i in lists:\n",
    "    newlist += i\n",
    "newlist"
   ]
  },
  {
   "cell_type": "code",
   "execution_count": 53,
   "id": "1add7ac3-10b9-402d-8bba-89268558416a",
   "metadata": {},
   "outputs": [
    {
     "data": {
      "text/plain": [
       "[1, 3, 5, 2, 5, 6, 7, 8, 9]"
      ]
     },
     "execution_count": 53,
     "metadata": {},
     "output_type": "execute_result"
    }
   ],
   "source": [
    "newlist"
   ]
  },
  {
   "cell_type": "code",
   "execution_count": 48,
   "id": "0d5c18bf-0a88-463e-9b5d-f89111495bcd",
   "metadata": {},
   "outputs": [
    {
     "data": {
      "text/plain": [
       "[1, 3, 5, 2, 5, 6]"
      ]
     },
     "execution_count": 48,
     "metadata": {},
     "output_type": "execute_result"
    }
   ],
   "source": [
    "lists[0]+lists[1]"
   ]
  },
  {
   "cell_type": "code",
   "execution_count": 13,
   "id": "1c3c7edb-85d3-461e-9797-3de445d38425",
   "metadata": {},
   "outputs": [],
   "source": [
    "k = ['w','w','x']"
   ]
  },
  {
   "cell_type": "code",
   "execution_count": 14,
   "id": "15096774-b291-4432-a848-57299e742823",
   "metadata": {},
   "outputs": [
    {
     "data": {
      "text/plain": [
       "['w', 'w', 'x']"
      ]
     },
     "execution_count": 14,
     "metadata": {},
     "output_type": "execute_result"
    }
   ],
   "source": [
    "k"
   ]
  },
  {
   "cell_type": "code",
   "execution_count": 15,
   "id": "62d2303f-caaf-4c56-af58-702796c3da68",
   "metadata": {},
   "outputs": [],
   "source": [
    "k.remove('w')"
   ]
  },
  {
   "cell_type": "code",
   "execution_count": 16,
   "id": "89893b06-c016-43de-b389-71035b13d19e",
   "metadata": {},
   "outputs": [
    {
     "data": {
      "text/plain": [
       "['w', 'x']"
      ]
     },
     "execution_count": 16,
     "metadata": {},
     "output_type": "execute_result"
    }
   ],
   "source": [
    "k"
   ]
  },
  {
   "cell_type": "code",
   "execution_count": 1,
   "id": "d6707f22-442b-461d-bc63-82928d0220a1",
   "metadata": {
    "tags": []
   },
   "outputs": [
    {
     "ename": "NameError",
     "evalue": "name 'util' is not defined",
     "output_type": "error",
     "traceback": [
      "\u001b[0;31m---------------------------------------------------------------------------\u001b[0m",
      "\u001b[0;31mNameError\u001b[0m                                 Traceback (most recent call last)",
      "Input \u001b[0;32mIn [1]\u001b[0m, in \u001b[0;36m<cell line: 1>\u001b[0;34m()\u001b[0m\n\u001b[0;32m----> 1\u001b[0m test \u001b[38;5;241m=\u001b[39m \u001b[43mutil\u001b[49m\u001b[38;5;241m.\u001b[39mlist_lines(\u001b[38;5;124m\"\u001b[39m\u001b[38;5;124m./preprocess/bilinear.txt\u001b[39m\u001b[38;5;124m\"\u001b[39m)\n\u001b[1;32m      2\u001b[0m en_test \u001b[38;5;241m=\u001b[39m util\u001b[38;5;241m.\u001b[39mencode_text_line(test)\n\u001b[1;32m      3\u001b[0m de_test \u001b[38;5;241m=\u001b[39m util\u001b[38;5;241m.\u001b[39mdecode_text_line(en_test)\n",
      "\u001b[0;31mNameError\u001b[0m: name 'util' is not defined"
     ]
    }
   ],
   "source": [
    "test = util.list_lines(\"./preprocess/bilinear.txt\")\n",
    "en_test = util.encode_text_line(test)\n",
    "de_test = util.decode_text_line(en_test)\n",
    "test == de_test"
   ]
  },
  {
   "cell_type": "code",
   "execution_count": 13,
   "id": "b689453f-5807-4cc6-8b74-7c8c800df80c",
   "metadata": {
    "collapsed": true,
    "jupyter": {
     "outputs_hidden": true
    },
    "tags": []
   },
   "outputs": [
    {
     "data": {
      "text/plain": [
       "['./matlib',\n",
       " './matlib/data',\n",
       " './matlib/data/bool',\n",
       " './matlib/data/dfinsupp',\n",
       " './matlib/data/vector',\n",
       " './matlib/data/polynomial',\n",
       " './matlib/data/polynomial/degree',\n",
       " './matlib/data/lazy_list',\n",
       " './matlib/data/string',\n",
       " './matlib/data/option',\n",
       " './matlib/data/sym',\n",
       " './matlib/data/ordmap',\n",
       " './matlib/data/zmod',\n",
       " './matlib/data/mv_polynomial',\n",
       " './matlib/data/setoid',\n",
       " './matlib/data/array',\n",
       " './matlib/data/rbmap',\n",
       " './matlib/data/multiset',\n",
       " './matlib/data/qpf',\n",
       " './matlib/data/qpf/univariate',\n",
       " './matlib/data/qpf/multivariate',\n",
       " './matlib/data/qpf/multivariate/constructions',\n",
       " './matlib/data/finset',\n",
       " './matlib/data/fun_like',\n",
       " './matlib/data/pi',\n",
       " './matlib/data/set',\n",
       " './matlib/data/set/intervals',\n",
       " './matlib/data/pnat',\n",
       " './matlib/data/set_like',\n",
       " './matlib/data/stream',\n",
       " './matlib/data/num',\n",
       " './matlib/data/fintype',\n",
       " './matlib/data/rat',\n",
       " './matlib/data/prod',\n",
       " './matlib/data/bitvec',\n",
       " './matlib/data/finsupp',\n",
       " './matlib/data/dlist',\n",
       " './matlib/data/sum',\n",
       " './matlib/data/matrix',\n",
       " './matlib/data/fin',\n",
       " './matlib/data/fin/tuple',\n",
       " './matlib/data/analysis',\n",
       " './matlib/data/fp',\n",
       " './matlib/data/W',\n",
       " './matlib/data/pfunctor',\n",
       " './matlib/data/pfunctor/univariate',\n",
       " './matlib/data/pfunctor/multivariate',\n",
       " './matlib/data/finite',\n",
       " './matlib/data/complex',\n",
       " './matlib/data/list',\n",
       " './matlib/data/real',\n",
       " './matlib/data/real/pi',\n",
       " './matlib/data/sigma',\n",
       " './matlib/data/buffer',\n",
       " './matlib/data/buffer/parser',\n",
       " './matlib/data/nat',\n",
       " './matlib/data/nat/cast',\n",
       " './matlib/data/nat/factorial',\n",
       " './matlib/data/nat/choose',\n",
       " './matlib/data/nat/factorization',\n",
       " './matlib/data/psigma',\n",
       " './matlib/data/int',\n",
       " './matlib/data/int/cast',\n",
       " './matlib/data/rbtree',\n",
       " './matlib/data/seq',\n",
       " './matlib/dynamics',\n",
       " './matlib/dynamics/circle',\n",
       " './matlib/dynamics/circle/rotation_number',\n",
       " './matlib/dynamics/ergodic',\n",
       " './matlib/dynamics/fixed_points',\n",
       " './matlib/meta',\n",
       " './matlib/group_theory',\n",
       " './matlib/group_theory/subgroup',\n",
       " './matlib/group_theory/submonoid',\n",
       " './matlib/group_theory/specific_groups',\n",
       " './matlib/group_theory/perm',\n",
       " './matlib/group_theory/perm/cycle',\n",
       " './matlib/group_theory/subsemigroup',\n",
       " './matlib/group_theory/group_action',\n",
       " './matlib/probability',\n",
       " './matlib/linear_algebra',\n",
       " './matlib/linear_algebra/clifford_algebra',\n",
       " './matlib/linear_algebra/projective_space',\n",
       " './matlib/linear_algebra/quadratic_form',\n",
       " './matlib/linear_algebra/charpoly',\n",
       " './matlib/linear_algebra/exterior_algebra',\n",
       " './matlib/linear_algebra/matrix',\n",
       " './matlib/linear_algebra/matrix/charpoly',\n",
       " './matlib/linear_algebra/affine_space',\n",
       " './matlib/linear_algebra/free_module',\n",
       " './matlib/linear_algebra/free_module/finite',\n",
       " './matlib/linear_algebra/multilinear',\n",
       " './matlib/linear_algebra/direct_sum',\n",
       " './matlib/linear_algebra/tensor_algebra',\n",
       " './matlib/set_theory',\n",
       " './matlib/set_theory/surreal',\n",
       " './matlib/set_theory/ordinal',\n",
       " './matlib/set_theory/cardinal',\n",
       " './matlib/set_theory/game',\n",
       " './matlib/algebraic_geometry',\n",
       " './matlib/algebraic_geometry/presheafed_space',\n",
       " './matlib/algebraic_geometry/prime_spectrum',\n",
       " './matlib/algebraic_geometry/projective_spectrum',\n",
       " './matlib/algebraic_geometry/locally_ringed_space',\n",
       " './matlib/number_theory',\n",
       " './matlib/number_theory/padics',\n",
       " './matlib/number_theory/liouville',\n",
       " './matlib/number_theory/zsqrtd',\n",
       " './matlib/number_theory/cyclotomic',\n",
       " './matlib/number_theory/class_number',\n",
       " './matlib/number_theory/legendre_symbol',\n",
       " './matlib/topology',\n",
       " './matlib/topology/locally_constant',\n",
       " './matlib/topology/sets',\n",
       " './matlib/topology/spectral',\n",
       " './matlib/topology/order',\n",
       " './matlib/topology/order/hom',\n",
       " './matlib/topology/instances',\n",
       " './matlib/topology/vector_bundle',\n",
       " './matlib/topology/continuous_function',\n",
       " './matlib/topology/category',\n",
       " './matlib/topology/category/CompHaus',\n",
       " './matlib/topology/category/Top',\n",
       " './matlib/topology/category/Profinite',\n",
       " './matlib/topology/bornology',\n",
       " './matlib/topology/hom',\n",
       " './matlib/topology/sheaves',\n",
       " './matlib/topology/sheaves/sheaf_condition',\n",
       " './matlib/topology/algebra',\n",
       " './matlib/topology/algebra/module',\n",
       " './matlib/topology/algebra/order',\n",
       " './matlib/topology/algebra/nonarchimedean',\n",
       " './matlib/topology/metric_space',\n",
       " './matlib/topology/homotopy',\n",
       " './matlib/topology/uniform_space',\n",
       " './matlib/logic',\n",
       " './matlib/logic/equiv',\n",
       " './matlib/logic/encodable',\n",
       " './matlib/logic/function',\n",
       " './matlib/order',\n",
       " './matlib/order/category',\n",
       " './matlib/order/hom',\n",
       " './matlib/order/partition',\n",
       " './matlib/order/filter',\n",
       " './matlib/order/succ_pred',\n",
       " './matlib/category_theory',\n",
       " './matlib/category_theory/endofunctor',\n",
       " './matlib/category_theory/functor',\n",
       " './matlib/category_theory/concrete_category',\n",
       " './matlib/category_theory/linear',\n",
       " './matlib/category_theory/enriched',\n",
       " './matlib/category_theory/preadditive',\n",
       " './matlib/category_theory/pi',\n",
       " './matlib/category_theory/additive',\n",
       " './matlib/category_theory/closed',\n",
       " './matlib/category_theory/monoidal',\n",
       " './matlib/category_theory/monoidal/free',\n",
       " './matlib/category_theory/monoidal/internal',\n",
       " './matlib/category_theory/monoidal/rigid',\n",
       " './matlib/category_theory/triangulated',\n",
       " './matlib/category_theory/idempotents',\n",
       " './matlib/category_theory/subobject',\n",
       " './matlib/category_theory/adjunction',\n",
       " './matlib/category_theory/category',\n",
       " './matlib/category_theory/category/Cat',\n",
       " './matlib/category_theory/abelian',\n",
       " './matlib/category_theory/abelian/diagram_lemmas',\n",
       " './matlib/category_theory/bicategory',\n",
       " './matlib/category_theory/limits',\n",
       " './matlib/category_theory/limits/constructions',\n",
       " './matlib/category_theory/limits/constructions/over',\n",
       " './matlib/category_theory/limits/shapes',\n",
       " './matlib/category_theory/limits/shapes/normal_mono',\n",
       " './matlib/category_theory/limits/preserves',\n",
       " './matlib/category_theory/limits/preserves/shapes',\n",
       " './matlib/category_theory/sites',\n",
       " './matlib/category_theory/sums',\n",
       " './matlib/category_theory/products',\n",
       " './matlib/category_theory/monad',\n",
       " './matlib/category_theory/sigma',\n",
       " './matlib/algebraic_topology',\n",
       " './matlib/algebraic_topology/fundamental_groupoid',\n",
       " './matlib/algebraic_topology/dold_kan',\n",
       " './matlib/combinatorics',\n",
       " './matlib/combinatorics/derangements',\n",
       " './matlib/combinatorics/set_family',\n",
       " './matlib/combinatorics/set_family/compression',\n",
       " './matlib/combinatorics/quiver',\n",
       " './matlib/combinatorics/additive',\n",
       " './matlib/combinatorics/simple_graph',\n",
       " './matlib/combinatorics/simple_graph/regularity',\n",
       " './matlib/combinatorics/hall',\n",
       " './matlib/.ipynb_checkpoints',\n",
       " './matlib/testing',\n",
       " './matlib/testing/slim_check',\n",
       " './matlib/analysis',\n",
       " './matlib/analysis/convex',\n",
       " './matlib/analysis/convex/simplicial_complex',\n",
       " './matlib/analysis/asymptotics',\n",
       " './matlib/analysis/locally_convex',\n",
       " './matlib/analysis/calculus',\n",
       " './matlib/analysis/calculus/conformal',\n",
       " './matlib/analysis/ODE',\n",
       " './matlib/analysis/normed_space',\n",
       " './matlib/analysis/normed_space/hahn_banach',\n",
       " './matlib/analysis/normed_space/star',\n",
       " './matlib/analysis/inner_product_space',\n",
       " './matlib/analysis/normed',\n",
       " './matlib/analysis/normed/field',\n",
       " './matlib/analysis/normed/group',\n",
       " './matlib/analysis/normed/group/SemiNormedGroup',\n",
       " './matlib/analysis/von_neumann_algebra',\n",
       " './matlib/analysis/special_functions',\n",
       " './matlib/analysis/special_functions/trigonometric',\n",
       " './matlib/analysis/special_functions/complex',\n",
       " './matlib/analysis/special_functions/log',\n",
       " './matlib/analysis/specific_limits',\n",
       " './matlib/analysis/analytic',\n",
       " './matlib/analysis/complex',\n",
       " './matlib/analysis/complex/upper_half_plane',\n",
       " './matlib/analysis/box_integral',\n",
       " './matlib/analysis/box_integral/partition',\n",
       " './matlib/analysis/box_integral/box',\n",
       " './matlib/deprecated',\n",
       " './matlib/geometry',\n",
       " './matlib/geometry/manifold',\n",
       " './matlib/geometry/manifold/instances',\n",
       " './matlib/geometry/manifold/algebra',\n",
       " './matlib/geometry/euclidean',\n",
       " './matlib/model_theory',\n",
       " './matlib/computability',\n",
       " './matlib/algebra',\n",
       " './matlib/algebra/polynomial',\n",
       " './matlib/algebra/group_with_zero',\n",
       " './matlib/algebra/ring',\n",
       " './matlib/algebra/group_power',\n",
       " './matlib/algebra/module',\n",
       " './matlib/algebra/module/submodule',\n",
       " './matlib/algebra/big_operators',\n",
       " './matlib/algebra/tropical',\n",
       " './matlib/algebra/field',\n",
       " './matlib/algebra/order',\n",
       " './matlib/algebra/order/hom',\n",
       " './matlib/algebra/regular',\n",
       " './matlib/algebra/category',\n",
       " './matlib/algebra/category/Algebra',\n",
       " './matlib/algebra/category/Semigroup',\n",
       " './matlib/algebra/category/FinVect',\n",
       " './matlib/algebra/category/Module',\n",
       " './matlib/algebra/category/Group',\n",
       " './matlib/algebra/category/Ring',\n",
       " './matlib/algebra/category/Mon',\n",
       " './matlib/algebra/gcd_monoid',\n",
       " './matlib/algebra/char_zero',\n",
       " './matlib/algebra/monoid_algebra',\n",
       " './matlib/algebra/lie',\n",
       " './matlib/algebra/hom',\n",
       " './matlib/algebra/char_p',\n",
       " './matlib/algebra/continued_fractions',\n",
       " './matlib/algebra/continued_fractions/computation',\n",
       " './matlib/algebra/group',\n",
       " './matlib/algebra/algebra',\n",
       " './matlib/algebra/algebra/subalgebra',\n",
       " './matlib/algebra/homology',\n",
       " './matlib/algebra/homology/short_exact',\n",
       " './matlib/algebra/star',\n",
       " './matlib/algebra/direct_sum',\n",
       " './matlib/ring_theory',\n",
       " './matlib/ring_theory/polynomial',\n",
       " './matlib/ring_theory/polynomial/cyclotomic',\n",
       " './matlib/ring_theory/witt_vector',\n",
       " './matlib/ring_theory/coprime',\n",
       " './matlib/ring_theory/mv_polynomial',\n",
       " './matlib/ring_theory/subsemiring',\n",
       " './matlib/ring_theory/power_series',\n",
       " './matlib/ring_theory/ideal',\n",
       " './matlib/ring_theory/localization',\n",
       " './matlib/ring_theory/adjoin',\n",
       " './matlib/ring_theory/dedekind_domain',\n",
       " './matlib/ring_theory/valuation',\n",
       " './matlib/ring_theory/subring',\n",
       " './matlib/ring_theory/graded_algebra',\n",
       " './matlib/ring_theory/int',\n",
       " './matlib/measure_theory',\n",
       " './matlib/measure_theory/covering',\n",
       " './matlib/measure_theory/constructions',\n",
       " './matlib/measure_theory/probability_mass_function',\n",
       " './matlib/measure_theory/integral',\n",
       " './matlib/measure_theory/decomposition',\n",
       " './matlib/measure_theory/category',\n",
       " './matlib/measure_theory/measure',\n",
       " './matlib/measure_theory/group',\n",
       " './matlib/measure_theory/function',\n",
       " './matlib/representation_theory',\n",
       " './matlib/tactic',\n",
       " './matlib/tactic/lint',\n",
       " './matlib/tactic/nth_rewrite',\n",
       " './matlib/tactic/monotonicity',\n",
       " './matlib/tactic/rewrite_search',\n",
       " './matlib/tactic/omega',\n",
       " './matlib/tactic/omega/nat',\n",
       " './matlib/tactic/omega/int',\n",
       " './matlib/tactic/linarith',\n",
       " './matlib/tactic/converter',\n",
       " './matlib/tactic/rewrite_all',\n",
       " './matlib/control',\n",
       " './matlib/control/functor',\n",
       " './matlib/control/bitraversable',\n",
       " './matlib/control/traversable',\n",
       " './matlib/control/monad',\n",
       " './matlib/control/equiv_functor',\n",
       " './matlib/field_theory',\n",
       " './matlib/field_theory/is_alg_closed',\n",
       " './matlib/field_theory/finite']"
      ]
     },
     "execution_count": 13,
     "metadata": {},
     "output_type": "execute_result"
    }
   ],
   "source": [
    "p = os.walk('./matlib')\n",
    "[x[0] for x in p]"
   ]
  },
  {
   "cell_type": "code",
   "execution_count": 2,
   "id": "68206573-8741-42cc-81f5-612071e81985",
   "metadata": {},
   "outputs": [],
   "source": [
    "import glob, os\n",
    "import utilities.utilities as util\n",
    "data_path = './matlib'\n",
    "preprocess_path = './preprocess'\n",
    "p = glob.glob(data_path + '/*', recursive = True)\n",
    "for path in p:\n",
    "    for filename in glob.glob(os.path.join(path, '*.lean')):\n",
    "        util.preprocess(filename, preprocess_path, data_path)"
   ]
  },
  {
   "cell_type": "code",
   "execution_count": 4,
   "id": "6ba313b5-86fc-4988-93ae-0d7dd6aaeef7",
   "metadata": {},
   "outputs": [
    {
     "data": {
      "text/plain": [
       "'./matlib/data'"
      ]
     },
     "execution_count": 4,
     "metadata": {},
     "output_type": "execute_result"
    }
   ],
   "source": [
    "p = glob.glob(data_path + '/*', recursive = True)\n",
    "p[0]"
   ]
  },
  {
   "cell_type": "code",
   "execution_count": 3,
   "id": "024f5c5a-812d-4778-96f9-184aeca337fa",
   "metadata": {},
   "outputs": [],
   "source": [
    "from tqdm import tqdm"
   ]
  },
  {
   "cell_type": "code",
   "execution_count": 8,
   "id": "153b3e14-04f5-4593-8b81-905985991424",
   "metadata": {},
   "outputs": [
    {
     "name": "stderr",
     "output_type": "stream",
     "text": [
      "100%|██████████| 5/5 [00:00<00:00, 54471.48it/s]\n"
     ]
    }
   ],
   "source": [
    "from tqdm import tqdm\n",
    "lst = [1, 3, 5, 7, 11]\n",
    "\n",
    "for element in tqdm(lst):\n",
    "    a=[]"
   ]
  },
  {
   "cell_type": "code",
   "execution_count": 23,
   "id": "bb8651f6-e203-4055-986b-ce863d3b0fc0",
   "metadata": {},
   "outputs": [],
   "source": [
    "torch.save(net,'./abe.pth')"
   ]
  },
  {
   "cell_type": "code",
   "execution_count": 24,
   "id": "d485026d-d45e-4ef1-8e68-5b6864a51e84",
   "metadata": {},
   "outputs": [],
   "source": [
    "net2 =  torch.load('./abe.pth')"
   ]
  },
  {
   "cell_type": "code",
   "execution_count": 25,
   "id": "ff6f64c3-9ccd-479c-8873-fd35eb790cfa",
   "metadata": {},
   "outputs": [
    {
     "data": {
      "text/plain": [
       "False"
      ]
     },
     "execution_count": 25,
     "metadata": {},
     "output_type": "execute_result"
    }
   ],
   "source": [
    "net == net2"
   ]
  },
  {
   "cell_type": "code",
   "execution_count": 33,
   "id": "3dd99fa9-3d6d-42df-83e8-e97151e02e34",
   "metadata": {},
   "outputs": [
    {
     "data": {
      "text/plain": [
       "tensor([[-0.0123, -0.0312,  0.0150,  ..., -0.0179,  0.0191,  0.0024],\n",
       "        [ 0.0076,  0.0264,  0.0127,  ..., -0.0313,  0.0249, -0.0239],\n",
       "        [-0.0156,  0.0098, -0.0021,  ..., -0.0190, -0.0002, -0.0210],\n",
       "        ...,\n",
       "        [ 0.0237, -0.0251,  0.0258,  ..., -0.0249, -0.0149, -0.0072],\n",
       "        [-0.0114, -0.0127,  0.0229,  ..., -0.0313,  0.0272, -0.0175],\n",
       "        [ 0.0086,  0.0011,  0.0119,  ..., -0.0083,  0.0119, -0.0307]])"
      ]
     },
     "execution_count": 33,
     "metadata": {},
     "output_type": "execute_result"
    }
   ],
   "source": [
    "net.state_dict()['fc1.weight']"
   ]
  },
  {
   "cell_type": "code",
   "execution_count": 34,
   "id": "572c6f89-f6f7-4480-b259-3620cdf04b94",
   "metadata": {},
   "outputs": [
    {
     "data": {
      "text/plain": [
       "tensor([[-0.0123, -0.0312,  0.0150,  ..., -0.0179,  0.0191,  0.0024],\n",
       "        [ 0.0076,  0.0264,  0.0127,  ..., -0.0313,  0.0249, -0.0239],\n",
       "        [-0.0156,  0.0098, -0.0021,  ..., -0.0190, -0.0002, -0.0210],\n",
       "        ...,\n",
       "        [ 0.0237, -0.0251,  0.0258,  ..., -0.0249, -0.0149, -0.0072],\n",
       "        [-0.0114, -0.0127,  0.0229,  ..., -0.0313,  0.0272, -0.0175],\n",
       "        [ 0.0086,  0.0011,  0.0119,  ..., -0.0083,  0.0119, -0.0307]])"
      ]
     },
     "execution_count": 34,
     "metadata": {},
     "output_type": "execute_result"
    }
   ],
   "source": [
    "net2.state_dict()['fc1.weight']"
   ]
  },
  {
   "cell_type": "code",
   "execution_count": 43,
   "id": "be4aa437-964e-400a-9007-9a8390bf0cf6",
   "metadata": {},
   "outputs": [
    {
     "name": "stdout",
     "output_type": "stream",
     "text": [
      "['07-07-2022, 00:27:58']\n"
     ]
    }
   ],
   "source": [
    "from datetime import datetime\n",
    "\n",
    "now = datetime.now() # current date and time\n",
    "a=[now.strftime(\"%m-%m-%Y\")]\n",
    "print(a)"
   ]
  },
  {
   "cell_type": "code",
   "execution_count": 44,
   "id": "3d6df1dd-5b86-49cf-ad81-d8438eefbe48",
   "metadata": {},
   "outputs": [
    {
     "data": {
      "text/plain": [
       "'9'"
      ]
     },
     "execution_count": 44,
     "metadata": {},
     "output_type": "execute_result"
    }
   ],
   "source": [
    "k=9\n",
    "str(k)"
   ]
  },
  {
   "cell_type": "code",
   "execution_count": 45,
   "id": "56850c41-7208-4394-91e8-cb3059b02f93",
   "metadata": {},
   "outputs": [],
   "source": [
    "score = [1,2,3,4,5]\n",
    "with open('./neuralnetwork/'+now.strftime(\"%m-%m-%Y\")+'_'+str(k)+\".txt\", \"w\") as f:\n",
    "    for s in score:\n",
    "        f.write(str(s) +\"\\n\")"
   ]
  },
  {
   "cell_type": "code",
   "execution_count": 34,
   "id": "853f5d07-1557-4d85-9558-2708ca1adb17",
   "metadata": {},
   "outputs": [
    {
     "data": {
      "text/plain": [
       "123205.84375"
      ]
     },
     "execution_count": 34,
     "metadata": {},
     "output_type": "execute_result"
    }
   ],
   "source": [
    "loss.item()"
   ]
  },
  {
   "cell_type": "code",
   "execution_count": 33,
   "id": "09764f87-320c-4527-9746-90a0975bd57b",
   "metadata": {},
   "outputs": [
    {
     "name": "stderr",
     "output_type": "stream",
     "text": [
      "<>:1: SyntaxWarning: \"is\" with a literal. Did you mean \"==\"?\n",
      "<>:1: SyntaxWarning: \"is\" with a literal. Did you mean \"==\"?\n",
      "<ipython-input-33-6c3030368d97>:1: SyntaxWarning: \"is\" with a literal. Did you mean \"==\"?\n",
      "  'loss' is str\n"
     ]
    },
    {
     "data": {
      "text/plain": [
       "False"
      ]
     },
     "execution_count": 33,
     "metadata": {},
     "output_type": "execute_result"
    }
   ],
   "source": [
    "'loss' is str"
   ]
  },
  {
   "cell_type": "code",
   "execution_count": 47,
   "id": "e1dae47e-90e2-4e89-97a2-d43a59e53e22",
   "metadata": {},
   "outputs": [],
   "source": [
    "from datetime import datetime\n",
    "now = datetime.now()\n",
    "loss_list = [2.2,62,99]\n",
    "k=0\n",
    "while os.path.exists('./neuralnetwork/'+now.strftime(\"%m-%m-%Y\")+'_'+str(k)+\".txt\"):\n",
    "    k+=1\n",
    "ppp = './neuralnetwork/'+now.strftime(\"%m-%m-%Y\")+'_'+str(k)\n",
    "with open(ppp+\".txt\", \"w\") as f:\n",
    "    for s in loss_list:\n",
    "        f.write(str(s) +\"\\n\")"
   ]
  },
  {
   "cell_type": "code",
   "execution_count": 48,
   "id": "92eccaba-6d23-4189-87e2-4ce4fca3ec62",
   "metadata": {},
   "outputs": [],
   "source": [
    "torch.save(net,ppp+'.pth')"
   ]
  },
  {
   "cell_type": "code",
   "execution_count": 14,
   "id": "1d1db781-f3bf-4852-8c0b-783fddc10df3",
   "metadata": {
    "collapsed": true,
    "jupyter": {
     "outputs_hidden": true
    },
    "tags": []
   },
   "outputs": [
    {
     "data": {
      "text/plain": [
       "[6233.84765625,\n",
       " 456.6353759765625,\n",
       " 4134.8369140625,\n",
       " 3860.010498046875,\n",
       " 15011.2607421875,\n",
       " 2703197.5,\n",
       " 2703197.5,\n",
       " 1882.25830078125,\n",
       " 2027132.75,\n",
       " 18609.166015625,\n",
       " 1940.5897216796875,\n",
       " 973.4368286132812,\n",
       " 2032740.25,\n",
       " 695.9895629882812,\n",
       " 2095.995849609375,\n",
       " 2391.00732421875,\n",
       " 4465.72314453125,\n",
       " 4199096.5,\n",
       " 1267.2913818359375,\n",
       " 813.6295776367188,\n",
       " 3010.409912109375,\n",
       " 715640.5625,\n",
       " 97592.875,\n",
       " 1133.55224609375,\n",
       " 19682.67578125,\n",
       " 6956.42626953125,\n",
       " 93706.0390625,\n",
       " 1684052.375,\n",
       " 42964.63671875,\n",
       " 42964.63671875,\n",
       " 2675.4892578125,\n",
       " 863.37060546875,\n",
       " 2188.77978515625,\n",
       " 8986.111328125,\n",
       " 4049.521728515625,\n",
       " 10988.3046875,\n",
       " 10988.3046875,\n",
       " 4608.734375,\n",
       " 1937.241455078125,\n",
       " 14739.947265625,\n",
       " 3979.2099609375,\n",
       " 3979.2099609375,\n",
       " 13725.6748046875,\n",
       " 1653.498291015625,\n",
       " 4785.435546875,\n",
       " 11548.6689453125,\n",
       " 1078.3203125,\n",
       " 1784.417236328125,\n",
       " 3440.0107421875,\n",
       " 5164.84619140625,\n",
       " 6689.0048828125,\n",
       " 16738.03515625,\n",
       " 1425.026611328125,\n",
       " 1368.9578857421875,\n",
       " 44003.59375,\n",
       " 10700.6123046875,\n",
       " 11430.69140625,\n",
       " 19475.15625,\n",
       " 674.6168823242188,\n",
       " 171426.3125,\n",
       " 171426.3125,\n",
       " 9226.1005859375,\n",
       " 1019745.125,\n",
       " 1151.228271484375,\n",
       " 1677351.625,\n",
       " 2577.945068359375,\n",
       " 1545.951171875,\n",
       " 11156.6298828125,\n",
       " 31339.740234375,\n",
       " 6864.447265625,\n",
       " 4235.49072265625,\n",
       " 2184.2744140625,\n",
       " 21701.306640625,\n",
       " 57797.34765625,\n",
       " 42422.95703125,\n",
       " 10658.654296875,\n",
       " 24748.34765625,\n",
       " 2438.4453125,\n",
       " 955.3938598632812,\n",
       " 2889.04833984375,\n",
       " 1759.4019775390625,\n",
       " 14097.8798828125,\n",
       " 124737.6953125,\n",
       " 2440.95947265625,\n",
       " 1456645.0,\n",
       " 8745.8447265625,\n",
       " 2436.86083984375,\n",
       " 27978.880859375,\n",
       " 1998737.875,\n",
       " 3751.118896484375,\n",
       " 3235.623046875,\n",
       " 1067.990478515625,\n",
       " 2158540.0,\n",
       " 99938.453125,\n",
       " 4383.72412109375,\n",
       " 5047.03173828125,\n",
       " 82675.71875,\n",
       " 1436062.25,\n",
       " 1436062.25,\n",
       " 21347.265625,\n",
       " 10954.5498046875,\n",
       " 2447.04248046875,\n",
       " 23237.119140625,\n",
       " 23237.119140625,\n",
       " 2013593.125,\n",
       " 4262.45556640625,\n",
       " 735374.0625,\n",
       " 735374.0625,\n",
       " 9583.3671875,\n",
       " 5787.68896484375,\n",
       " 904.0068359375,\n",
       " 2141906.0,\n",
       " 1453.63818359375,\n",
       " 6607.39892578125,\n",
       " 1433768.5,\n",
       " 1637.8580322265625,\n",
       " 20736.607421875,\n",
       " 5090.27197265625,\n",
       " 1055.3900146484375,\n",
       " 1316.6534423828125,\n",
       " 5906.5595703125,\n",
       " 991.3666381835938,\n",
       " 3773089.25,\n",
       " 142765104.0,\n",
       " 142765104.0,\n",
       " 710905.9375,\n",
       " 686.6749267578125,\n",
       " 2016979.0,\n",
       " 2718.276123046875,\n",
       " 3385217.25,\n",
       " 730058.4375,\n",
       " 5754.3896484375,\n",
       " 744307.8125,\n",
       " 8966.8564453125,\n",
       " 483.40313720703125,\n",
       " 2011658.375,\n",
       " 27313.185546875,\n",
       " 2438327.5,\n",
       " 1444788.875,\n",
       " 3565.46728515625,\n",
       " 1275.403564453125,\n",
       " 2178.5498046875,\n",
       " 17620.26953125,\n",
       " 1546.392578125,\n",
       " 1138.1524658203125,\n",
       " 6417.341796875,\n",
       " 2863.1787109375,\n",
       " 1393294.125,\n",
       " 1009.7905883789062,\n",
       " 56120.92578125,\n",
       " 3227.324951171875,\n",
       " 1806.540771484375,\n",
       " 315530.46875,\n",
       " 5353223.0,\n",
       " 8724.1259765625,\n",
       " 3348.45703125,\n",
       " 2278.6015625,\n",
       " 16764.5390625,\n",
       " 11073.337890625,\n",
       " 1956342.375,\n",
       " 9830.6455078125,\n",
       " 1899764.125,\n",
       " 1060.51220703125,\n",
       " 1271.09130859375,\n",
       " 10771.0908203125,\n",
       " 3209.384765625,\n",
       " 381.3514709472656,\n",
       " 61670.69921875,\n",
       " 1127.486328125,\n",
       " 330632.9375,\n",
       " 1277.0181884765625,\n",
       " 1109.47216796875,\n",
       " 976608.25,\n",
       " 24411.744140625,\n",
       " 994.8458251953125,\n",
       " 142611840.0,\n",
       " 3607869.25,\n",
       " 10070.2421875,\n",
       " 8900.236328125,\n",
       " 610.2420043945312,\n",
       " 1166.614990234375,\n",
       " 2452.455078125,\n",
       " 1698.1326904296875,\n",
       " 47307.49609375,\n",
       " 706859.625,\n",
       " 1901.8787841796875,\n",
       " 5326.2314453125,\n",
       " 1191102.75,\n",
       " 144545008.0,\n",
       " 12248.5654296875,\n",
       " 1065.6431884765625,\n",
       " 1353.1925048828125,\n",
       " 296800.125,\n",
       " 158509.609375,\n",
       " 4087.697998046875,\n",
       " 687775.4375,\n",
       " 687775.4375,\n",
       " 2874.361572265625,\n",
       " 1515.90625,\n",
       " 1306.5523681640625,\n",
       " 8228.451171875,\n",
       " 2011.6346435546875,\n",
       " 6519.2548828125,\n",
       " 3614.0087890625,\n",
       " 25962.19140625,\n",
       " 1328.0933837890625,\n",
       " 2736.16259765625,\n",
       " 1187.0018310546875,\n",
       " 924.8988037109375,\n",
       " 569.5410766601562,\n",
       " 10057.125,\n",
       " 3790.85546875,\n",
       " 22348.525390625,\n",
       " 9875.1572265625,\n",
       " 2477.408203125,\n",
       " 12568.8271484375,\n",
       " 2169.020263671875,\n",
       " 142270608.0,\n",
       " 24250.365234375,\n",
       " 8202.951171875,\n",
       " 44137.5703125,\n",
       " 38585.140625,\n",
       " 976.2916870117188,\n",
       " 7785.8515625,\n",
       " 1470.51806640625,\n",
       " 300.32000732421875,\n",
       " 14601.7890625,\n",
       " 5264.080078125,\n",
       " 1168.6380615234375,\n",
       " 968.6698608398438,\n",
       " 4746.326171875,\n",
       " 20236.01953125,\n",
       " 709.865478515625,\n",
       " 1694.3753662109375,\n",
       " 773196.625,\n",
       " 40827.734375,\n",
       " 22302.337890625,\n",
       " 4534.990234375,\n",
       " 2389.983154296875,\n",
       " 1981791.5,\n",
       " 5078.07373046875,\n",
       " 47865.1171875,\n",
       " 3622.927490234375,\n",
       " 10366.6669921875,\n",
       " 49739.34375,\n",
       " 1183.2789306640625,\n",
       " 11522.0439453125,\n",
       " 1500.7259521484375,\n",
       " 3290.661376953125,\n",
       " 298.3714599609375,\n",
       " 6913.40869140625,\n",
       " 2406.857421875,\n",
       " 8959.6767578125,\n",
       " 1416494.0,\n",
       " 52948.75390625,\n",
       " 899.2666015625,\n",
       " 756.1810913085938,\n",
       " 30587.77734375,\n",
       " 1471.5076904296875,\n",
       " 1241.47705078125,\n",
       " 7442.3505859375,\n",
       " 9468.193359375,\n",
       " 61625.3671875,\n",
       " 1882511.625,\n",
       " 3877.039306640625,\n",
       " 1117.21826171875,\n",
       " 939.7448120117188,\n",
       " 2019782.875,\n",
       " 15919.865234375,\n",
       " 1701.4908447265625,\n",
       " 122181.390625,\n",
       " 1180.68408203125,\n",
       " 12357.4404296875,\n",
       " 1296359.625,\n",
       " 2331.0263671875,\n",
       " 2331.0263671875,\n",
       " 924.7268676757812,\n",
       " 1112.8707275390625,\n",
       " 3101.37646484375,\n",
       " 1868.2618408203125,\n",
       " 38172.49609375,\n",
       " 28728.353515625,\n",
       " 3848.73779296875,\n",
       " 4987.11083984375,\n",
       " 4987.11083984375,\n",
       " 32888.3828125,\n",
       " 12891.97265625,\n",
       " 48709.3828125,\n",
       " 1090.14794921875,\n",
       " 12481.1103515625,\n",
       " 749531.75,\n",
       " 565.97021484375,\n",
       " 2057614.0,\n",
       " 6032.73583984375,\n",
       " 949704.375,\n",
       " 5466.0439453125,\n",
       " 1902.0379638671875,\n",
       " 25148.619140625,\n",
       " 2521.9111328125,\n",
       " 4211.8232421875,\n",
       " 40179.0859375,\n",
       " 7447.59326171875,\n",
       " 2727900.75,\n",
       " 8082.42333984375,\n",
       " 1341.7962646484375,\n",
       " 1978.7733154296875,\n",
       " 601603.3125,\n",
       " 2254.039794921875,\n",
       " 796.0320434570312,\n",
       " 1328.4249267578125,\n",
       " 18758.310546875,\n",
       " 7526.7568359375,\n",
       " 3732.0361328125,\n",
       " 2910299.0,\n",
       " 2431.655517578125,\n",
       " 1857.5137939453125,\n",
       " 8854.3046875,\n",
       " 2341.2666015625,\n",
       " 2341.2666015625,\n",
       " 1243.91943359375,\n",
       " 117233.3359375,\n",
       " 1037.45849609375,\n",
       " 72907.8125,\n",
       " 2084.833740234375,\n",
       " 2160.16796875,\n",
       " 146092.25,\n",
       " 14423.212890625,\n",
       " 1214.00244140625,\n",
       " 1104.14306640625,\n",
       " 2623.940185546875,\n",
       " 1389346.0,\n",
       " 1606.750732421875,\n",
       " 2596152.0,\n",
       " 12993.056640625,\n",
       " 2150.822509765625,\n",
       " 2887.361328125,\n",
       " 756680.5,\n",
       " 3426.193115234375,\n",
       " 11140.7802734375,\n",
       " 7648.6806640625,\n",
       " 462.28466796875,\n",
       " 48802.42578125,\n",
       " 3658802.5,\n",
       " 8446.0078125,\n",
       " 2177080.25,\n",
       " 1785.416259765625,\n",
       " 2846603.5,\n",
       " 667465.9375,\n",
       " 1247.0533447265625,\n",
       " 18141.443359375,\n",
       " 695316.1875,\n",
       " 760.2250366210938,\n",
       " 7833.48974609375,\n",
       " 2801.244384765625,\n",
       " 9767.716796875,\n",
       " 1003788.5,\n",
       " 2713.687744140625,\n",
       " 3111155.75,\n",
       " 1526.966796875,\n",
       " 1436900.5,\n",
       " 4779.46044921875,\n",
       " 40982.953125,\n",
       " 1357.92431640625,\n",
       " 1149.0185546875,\n",
       " 6908.84521484375,\n",
       " 4397.58837890625,\n",
       " 1414.7020263671875,\n",
       " 1076.9163818359375,\n",
       " 28770.705078125,\n",
       " 5960.45751953125,\n",
       " 2757.895751953125,\n",
       " 734220.25,\n",
       " 682244.9375,\n",
       " 426920544.0,\n",
       " 1421.254150390625,\n",
       " 17465.021484375,\n",
       " 12438.26953125,\n",
       " 2015623.5,\n",
       " 4200.54248046875,\n",
       " 19624.548828125,\n",
       " 10054.36328125,\n",
       " 9995.3642578125,\n",
       " 1612.4517822265625,\n",
       " 27637.041015625,\n",
       " 6029.06005859375,\n",
       " 1317.0028076171875,\n",
       " 15840.1123046875,\n",
       " 2850.763427734375,\n",
       " 724491.0625,\n",
       " 1910.357177734375,\n",
       " 19811.791015625,\n",
       " 4030056.5,\n",
       " 4073361.0,\n",
       " 1109.2396240234375,\n",
       " 2456.8037109375,\n",
       " 2142986.25,\n",
       " 2048893.5,\n",
       " 11235.78515625,\n",
       " 36221.62890625,\n",
       " 2200.96435546875,\n",
       " 875.3087768554688,\n",
       " 1613.9964599609375,\n",
       " 3790.54296875,\n",
       " 1328.1240234375,\n",
       " 27035.625,\n",
       " 2024851.5,\n",
       " 685243.8125,\n",
       " 8291.1484375,\n",
       " 3672583.75,\n",
       " 2806833.0,\n",
       " 178491.90625,\n",
       " 3754.964111328125,\n",
       " 4030.55029296875,\n",
       " 6235.6005859375,\n",
       " 40023.8828125,\n",
       " 1264.3466796875,\n",
       " 5707.10546875,\n",
       " 2820.521240234375,\n",
       " 2087.323486328125,\n",
       " 1950.591552734375,\n",
       " 3283.74560546875,\n",
       " 721947.4375,\n",
       " 8250.2841796875,\n",
       " 2196.503662109375,\n",
       " 122368.5703125,\n",
       " 5160.18896484375,\n",
       " 10658.72265625,\n",
       " 8784.3154296875,\n",
       " 8784.3154296875,\n",
       " 1487.2423095703125,\n",
       " 575407.9375,\n",
       " 2406.525390625,\n",
       " 10841.744140625,\n",
       " 24266.2421875,\n",
       " 10337.556640625,\n",
       " 1024.500732421875,\n",
       " 3887.2080078125,\n",
       " 17587.814453125,\n",
       " 904755.0625,\n",
       " 5992.4111328125,\n",
       " 3146.0400390625,\n",
       " 1049636.375,\n",
       " 2612.57421875,\n",
       " 7302251.5,\n",
       " 2155.148193359375,\n",
       " 21519.828125,\n",
       " 14193.5146484375,\n",
       " 1301.576171875,\n",
       " 1459.9322509765625,\n",
       " 337976.09375,\n",
       " 10645.6044921875,\n",
       " 1170.1883544921875,\n",
       " 3461.508544921875,\n",
       " 2383.627685546875,\n",
       " 12898.5400390625,\n",
       " 13641.2119140625,\n",
       " 13471.50390625,\n",
       " 715124.625,\n",
       " 1223.8721923828125,\n",
       " 2577902.0,\n",
       " 726972.625,\n",
       " 2791.81396484375,\n",
       " 6937.29150390625,\n",
       " 1393.8753662109375,\n",
       " 35247.6328125,\n",
       " 2821964.25,\n",
       " 87381.2421875,\n",
       " 2173.950439453125,\n",
       " 800597.9375,\n",
       " 13302.076171875,\n",
       " 721.5531616210938,\n",
       " 2059715.0,\n",
       " 2895.277587890625,\n",
       " 1430.7891845703125,\n",
       " 3281.2861328125,\n",
       " 1668.9957275390625,\n",
       " 7720.044921875,\n",
       " 31978.94921875,\n",
       " 1896.704345703125,\n",
       " 19802.28515625,\n",
       " 83202.4921875,\n",
       " 5561.71435546875,\n",
       " 119850.734375,\n",
       " 741294.75,\n",
       " 23160.490234375,\n",
       " 2248.336669921875,\n",
       " 1191.534912109375,\n",
       " 21179.755859375,\n",
       " 703459.0625,\n",
       " 1145.2130126953125,\n",
       " 14261.7646484375,\n",
       " 287.93994140625,\n",
       " 287.8590087890625,\n",
       " 873.3357543945312,\n",
       " 2382.314453125,\n",
       " 1264.5645751953125,\n",
       " 716.26025390625,\n",
       " 2454.1103515625,\n",
       " 23199.673828125,\n",
       " 6026.6005859375,\n",
       " 12680.87890625,\n",
       " 2594562.75,\n",
       " 2594562.75,\n",
       " 1855096.125,\n",
       " 3287921.5,\n",
       " 23911.375,\n",
       " 7095.02197265625,\n",
       " 8382.158203125,\n",
       " 2079.101318359375,\n",
       " 26373.865234375,\n",
       " 96867.6171875,\n",
       " 7682.83984375,\n",
       " 12240.4345703125,\n",
       " 2159.833984375,\n",
       " 10273.232421875,\n",
       " 16919.43359375,\n",
       " 3850.45703125,\n",
       " 10042.779296875,\n",
       " 18714.28515625,\n",
       " 2517.788818359375,\n",
       " 6580.76123046875,\n",
       " 10137.2001953125,\n",
       " 7220.62890625,\n",
       " 2271.291259765625,\n",
       " 1399.481201171875,\n",
       " 14401.22265625,\n",
       " 23440.98828125,\n",
       " 1910.8916015625,\n",
       " 3136.081298828125,\n",
       " 2866.564453125,\n",
       " 4396.708984375,\n",
       " 6133.0712890625,\n",
       " 1026.2955322265625,\n",
       " 3789.128173828125,\n",
       " 287.5155944824219,\n",
       " 728108.625,\n",
       " 19921.876953125,\n",
       " 61125.91796875,\n",
       " 1947.1407470703125,\n",
       " 137813.6875,\n",
       " 2513.148193359375,\n",
       " 312.97174072265625,\n",
       " 1738.14599609375,\n",
       " 2390.584228515625,\n",
       " 15526.072265625,\n",
       " 6728.9208984375,\n",
       " 7731.56103515625,\n",
       " 828.8919067382812,\n",
       " 67648.2578125,\n",
       " 19616.23828125,\n",
       " 733485.125,\n",
       " 2460.2685546875,\n",
       " 1102.860107421875,\n",
       " 18044.7578125,\n",
       " 18044.7578125,\n",
       " 975349.9375,\n",
       " 2880.96044921875,\n",
       " 4006.285888671875,\n",
       " 3713.1474609375,\n",
       " 22117.353515625,\n",
       " 24175.08984375,\n",
       " 9162.7236328125,\n",
       " 1013.2496948242188,\n",
       " 832.6126708984375,\n",
       " 334.7467956542969,\n",
       " 2145598.75,\n",
       " 1085.0323486328125,\n",
       " 3405.109619140625,\n",
       " 1522.9769287109375,\n",
       " 121536.203125,\n",
       " 5107448.5,\n",
       " 6143.57177734375,\n",
       " 1453.7147216796875,\n",
       " 4358.03515625,\n",
       " 28090.412109375,\n",
       " 14041.9345703125,\n",
       " 12474.279296875,\n",
       " 17405.029296875,\n",
       " 1968137.125,\n",
       " 4900.24951171875,\n",
       " 19636.96484375,\n",
       " 11015.6337890625,\n",
       " 3210.1650390625,\n",
       " 19049.107421875,\n",
       " 1332.917724609375,\n",
       " 43077.49609375,\n",
       " 43077.49609375,\n",
       " 43077.49609375,\n",
       " 1018.4542846679688,\n",
       " 62096.80078125,\n",
       " 1221.8460693359375,\n",
       " 1900705.25,\n",
       " 1444.835205078125,\n",
       " 12659.3115234375,\n",
       " 5494.46484375,\n",
       " 1100497.625,\n",
       " 2645.092529296875,\n",
       " 62385.76171875,\n",
       " 1397.1392822265625,\n",
       " 802.2803344726562,\n",
       " 12799.4150390625,\n",
       " 1550.0677490234375,\n",
       " 28240.55078125,\n",
       " 1459.153076171875,\n",
       " 12135.1796875,\n",
       " 16077.8232421875,\n",
       " 691100.625,\n",
       " 1118.7967529296875,\n",
       " 9620.1025390625,\n",
       " 1191.4381103515625,\n",
       " 707078.4375,\n",
       " 737925.625,\n",
       " 124446.46875,\n",
       " 14022.255859375,\n",
       " 13226.9228515625,\n",
       " 40765.69140625,\n",
       " 36594.02734375,\n",
       " 14177.177734375,\n",
       " 4775.123046875,\n",
       " 1362704.625,\n",
       " 12356.3076171875,\n",
       " 732082.4375,\n",
       " 747397.3125,\n",
       " 27742.255859375,\n",
       " 1118.0576171875,\n",
       " 1118.0576171875,\n",
       " 23717.390625,\n",
       " 2288.414794921875,\n",
       " 4146.6533203125,\n",
       " 10715.634765625,\n",
       " 10715.634765625,\n",
       " 2528.868408203125,\n",
       " 4149.697265625,\n",
       " 4444.71875,\n",
       " 6440.97265625,\n",
       " 2736604.25,\n",
       " 2736604.25,\n",
       " 1359.2119140625,\n",
       " 2021376.125,\n",
       " 19774.4921875,\n",
       " 1452.546875,\n",
       " 1369.3624267578125,\n",
       " 2047157.375,\n",
       " 2301.145263671875,\n",
       " 3063.41845703125,\n",
       " 1544.145263671875,\n",
       " 2674.7138671875,\n",
       " 4261779.5,\n",
       " 1435.740966796875,\n",
       " 4167.33203125,\n",
       " 1743.7469482421875,\n",
       " 715697.1875,\n",
       " 125054.53125,\n",
       " 1180.8697509765625,\n",
       " 7249.4931640625,\n",
       " 24601.873046875,\n",
       " 137606.859375,\n",
       " 721229.3125,\n",
       " 84450.3046875,\n",
       " 84450.3046875,\n",
       " 1347.860107421875,\n",
       " 733.2468872070312,\n",
       " 5231.634765625,\n",
       " 8756.60546875,\n",
       " 5635.1650390625,\n",
       " 34862.8203125,\n",
       " 34862.8203125,\n",
       " 7469.22998046875,\n",
       " 1650.72705078125,\n",
       " 18753.87109375,\n",
       " 1113.198486328125,\n",
       " 1113.198486328125,\n",
       " 11514.06640625,\n",
       " 1149.8765869140625,\n",
       " 4092.925537109375,\n",
       " 23151.896484375,\n",
       " 1044.0543212890625,\n",
       " 1899.8673095703125,\n",
       " 7485.69384765625,\n",
       " 279.8929138183594,\n",
       " 4352.14990234375,\n",
       " 31969.44921875,\n",
       " 1582.3187255859375,\n",
       " 1504.8245849609375,\n",
       " 51587.69921875,\n",
       " 43897.51171875,\n",
       " 6862.26953125,\n",
       " 17968.69140625,\n",
       " 2773.182861328125,\n",
       " 1761.8994140625,\n",
       " 1761.8994140625,\n",
       " 10710.0185546875,\n",
       " 1016235.1875,\n",
       " 1703.707275390625,\n",
       " 1734411.625,\n",
       " 3109.8173828125,\n",
       " 1314.392333984375,\n",
       " 11317.365234375,\n",
       " 50854.7265625,\n",
       " 4525.37451171875,\n",
       " 6932.4326171875,\n",
       " 6268.2998046875,\n",
       " 29302.9921875,\n",
       " 59619.00390625,\n",
       " 37416.6640625,\n",
       " 24996.1796875,\n",
       " 24283.7890625,\n",
       " 1218.34619140625,\n",
       " 2238.72607421875,\n",
       " 1351.970458984375,\n",
       " 3271.688232421875,\n",
       " 16550.056640625,\n",
       " 2089.631103515625,\n",
       " 376.8203430175781,\n",
       " 1458966.875,\n",
       " 28961.578125,\n",
       " 1620.8323974609375,\n",
       " 15194.0205078125,\n",
       " 2028903.5,\n",
       " 686.0054321289062,\n",
       " 14660.08203125,\n",
       " 976.558349609375,\n",
       " 2182648.75,\n",
       " 83918.7421875,\n",
       " 995.665283203125,\n",
       " 1033.367919921875,\n",
       " 4796.3427734375,\n",
       " 1426824.375,\n",
       " 1426824.375,\n",
       " 20505.541015625,\n",
       " 12380.3134765625,\n",
       " 1025.784423828125,\n",
       " 23158.412109375,\n",
       " 23158.412109375,\n",
       " 1996911.875,\n",
       " 3300.779296875,\n",
       " 729019.75,\n",
       " 729019.75,\n",
       " 321.7400817871094,\n",
       " 20557.236328125,\n",
       " 823.439697265625,\n",
       " 2144153.25,\n",
       " 1952.0556640625,\n",
       " 4366.82275390625,\n",
       " 1423604.5,\n",
       " 1132.177978515625,\n",
       " 33666.67578125,\n",
       " 3735.226806640625,\n",
       " 1798.0185546875,\n",
       " 1084.24267578125,\n",
       " 5637.76513671875,\n",
       " 1638.8858642578125,\n",
       " 3729658.25,\n",
       " 142723328.0,\n",
       " 142723328.0,\n",
       " 717574.0625,\n",
       " 506.0992126464844,\n",
       " 2027672.0,\n",
       " 984.812255859375,\n",
       " 3393929.5,\n",
       " 735754.875,\n",
       " 1030.1663818359375,\n",
       " 738891.8125,\n",
       " 9024.4658203125,\n",
       " 12973.201171875,\n",
       " 2032399.875,\n",
       " 4788.81396484375,\n",
       " 2482110.5,\n",
       " 1436461.0,\n",
       " 3012.895751953125,\n",
       " 1463.0194091796875,\n",
       " 2044.4417724609375,\n",
       " 12517.2724609375,\n",
       " 1336.3697509765625,\n",
       " 1217.0430908203125,\n",
       " 5215.21875,\n",
       " 4666.41015625,\n",
       " 1359236.75,\n",
       " 4258.83837890625,\n",
       " 51707.1796875,\n",
       " 2669.924560546875,\n",
       " 1898.9312744140625,\n",
       " 161905.375,\n",
       " 5310140.0,\n",
       " 15373.806640625,\n",
       " 5495.8935546875,\n",
       " 1539.967041015625,\n",
       " 62408.15234375,\n",
       " 1495.1671142578125,\n",
       " 1928306.0,\n",
       " 3831.934326171875,\n",
       " 1940422.625,\n",
       " 1041.7769775390625,\n",
       " 3680.638427734375,\n",
       " 26674.501953125,\n",
       " 4355.1982421875,\n",
       " 2616.2333984375,\n",
       " 33695.1171875,\n",
       " 870.2949829101562,\n",
       " 295629.125,\n",
       " 2122.8759765625,\n",
       " 10502.95703125,\n",
       " 933486.25,\n",
       " 42932.51953125,\n",
       " 1306.997802734375,\n",
       " 140877488.0,\n",
       " 3742202.0,\n",
       " 9720.5810546875,\n",
       " 7334.33203125,\n",
       " 1229.501708984375,\n",
       " 10843.66015625,\n",
       " 1969.5703125,\n",
       " 3317.13232421875,\n",
       " 28010.294921875,\n",
       " 686131.3125,\n",
       " 1962.2103271484375,\n",
       " 12648.35546875,\n",
       " 221787.25,\n",
       " 144023536.0,\n",
       " 23532.025390625,\n",
       " 2277.994873046875,\n",
       " 2311.130615234375,\n",
       " 326148.53125,\n",
       " 558048.375,\n",
       " 2597.08544921875,\n",
       " 664305.875,\n",
       " 664305.875,\n",
       " 15459.7421875,\n",
       " 6567.00244140625,\n",
       " 3240.5771484375,\n",
       " 10410.4267578125,\n",
       " 1153.7476806640625,\n",
       " 2580.01953125,\n",
       " 3656.906494140625,\n",
       " 26923.234375,\n",
       " 3078.26318359375,\n",
       " 770.522216796875,\n",
       " 978.1556396484375,\n",
       " 1710.280029296875,\n",
       " 1884.5286865234375,\n",
       " 9002.111328125,\n",
       " 19684.021484375,\n",
       " 19046.15234375,\n",
       " 11066.9384765625,\n",
       " 4073.15869140625,\n",
       " 20438.28515625,\n",
       " 7879.7255859375,\n",
       " 142216096.0,\n",
       " 16503.603515625,\n",
       " 5349.197265625,\n",
       " 47290.921875,\n",
       " 24910.8046875,\n",
       " 811.30224609375,\n",
       " 10876.033203125,\n",
       " 1858.799072265625,\n",
       " 284.72698974609375,\n",
       " 5504.0810546875,\n",
       " 6128.38720703125,\n",
       " 2594.2958984375,\n",
       " 1090.72314453125,\n",
       " 9775.8466796875,\n",
       " 15416.0810546875,\n",
       " 1155.9278564453125,\n",
       " 1503.6365966796875,\n",
       " 772944.6875,\n",
       " 35984.0859375,\n",
       " 41398.0703125,\n",
       " 5055.84814453125,\n",
       " 1210.370361328125,\n",
       " 1967747.5,\n",
       " 2751.90966796875,\n",
       " 41399.9609375,\n",
       " 3204.8017578125,\n",
       " 285.1241760253906,\n",
       " 62161.51953125,\n",
       " 1133.9464111328125,\n",
       " 13392.912109375,\n",
       " 1436.9736328125,\n",
       " 2409.772216796875,\n",
       " 6046.75439453125,\n",
       " 3839.650390625,\n",
       " 2980.8173828125,\n",
       " 17792.884765625,\n",
       " 1405517.625,\n",
       " 45847.16796875,\n",
       " 841.6535034179688,\n",
       " 938.7049560546875,\n",
       " 29221.390625,\n",
       " 1891.471923828125,\n",
       " 982.82666015625,\n",
       " 4387.56640625,\n",
       " 9805.0302734375,\n",
       " 50697.44921875,\n",
       " 1848938.875,\n",
       " 3671.493896484375,\n",
       " 1086.427734375,\n",
       " 1169.229736328125,\n",
       " 1987257.125,\n",
       " 6119.37255859375,\n",
       " 1160.89501953125,\n",
       " 92832.4140625,\n",
       " 1702.232177734375,\n",
       " 10397.29296875,\n",
       " 1288466.375,\n",
       " 1289.208740234375,\n",
       " 1289.208740234375,\n",
       " 7902.94287109375,\n",
       " 1445.2415771484375,\n",
       " 2160.025390625,\n",
       " 1211.569091796875,\n",
       " 28863.265625,\n",
       " 33712.421875,\n",
       " 6251.263671875,\n",
       " 17169.708984375,\n",
       " 17169.708984375,\n",
       " 20404.978515625,\n",
       " 8478.3759765625,\n",
       " 89421.3046875,\n",
       " 981.6077880859375,\n",
       " 3384.830810546875,\n",
       " 757417.5,\n",
       " 24353.654296875,\n",
       " 1979077.125,\n",
       " 4013.22216796875,\n",
       " 924941.0,\n",
       " 2419.43017578125,\n",
       " 4478.64697265625,\n",
       " 6568.41162109375,\n",
       " 1098.1416015625,\n",
       " 1985.747802734375,\n",
       " 3497.2822265625,\n",
       " 1944.8497314453125,\n",
       " 2728436.5,\n",
       " 5923.77685546875,\n",
       " 981.10986328125,\n",
       " 1178.9610595703125,\n",
       " 979.2671508789062,\n",
       " 6387.73876953125,\n",
       " 1118.9954833984375,\n",
       " 1251.5750732421875,\n",
       " 25400.017578125,\n",
       " 749.5592651367188,\n",
       " 12705.1787109375,\n",
       " 3006280.25,\n",
       " 1367.5133056640625,\n",
       " 1041.1837158203125,\n",
       " 820.6622314453125,\n",
       " 1880.694580078125,\n",
       " 1880.694580078125,\n",
       " 1884.34033203125,\n",
       " 57411.71484375,\n",
       " 1191.42138671875,\n",
       " 129174.34375,\n",
       " 2209.269287109375,\n",
       " 1906.042236328125,\n",
       " 148987.296875,\n",
       " 10970.4033203125,\n",
       " 1094.407470703125,\n",
       " 1033.4041748046875,\n",
       " 1751.9908447265625,\n",
       " 1388681.375,\n",
       " 5183.64599609375,\n",
       " 2615501.25,\n",
       " 5208.5146484375,\n",
       " 1900.4217529296875,\n",
       " 3197.690673828125,\n",
       " 755880.5625,\n",
       " 2095.862548828125,\n",
       " 11329.0341796875,\n",
       " 7050.07373046875,\n",
       " 662457.75,\n",
       " 35739.75390625,\n",
       " 3749517.5,\n",
       " 12076.3828125,\n",
       " 2163746.75,\n",
       " 1225.7745361328125,\n",
       " 2900580.0,\n",
       " 673682.1875,\n",
       " 4189.7255859375,\n",
       " 1613.2711181640625,\n",
       " 689924.875,\n",
       " 2158.535888671875,\n",
       " 3750.9697265625,\n",
       " 2729.083740234375,\n",
       " 24684.154296875,\n",
       " 1001860.875,\n",
       " 7349.30029296875,\n",
       " 3163894.5,\n",
       " 1361.037841796875,\n",
       " 1431615.25,\n",
       " 8365.9443359375,\n",
       " 70771.2421875,\n",
       " 6788.60107421875,\n",
       " 2297.843994140625,\n",
       " 2851.194580078125,\n",
       " 7965.55029296875,\n",
       " 1424.2083740234375,\n",
       " 1714.4066162109375,\n",
       " 27201.017578125,\n",
       " 11086.0673828125,\n",
       " ...]"
      ]
     },
     "execution_count": 14,
     "metadata": {},
     "output_type": "execute_result"
    }
   ],
   "source": [
    "import matplotlib.pyplot as plt\n",
    "import os , glob\n",
    "import utilities.utilities as util\n",
    "max_char = 102\n",
    "preprocess_path = './preprocess'\n",
    "f = open(\"./neuralnetwork/fcn07-07-2022_0.txt\", \"r\")\n",
    "c= f.readlines()\n",
    "lists = []\n",
    "# for i in range(10):\n",
    "#     k += 7417\n",
    "#     lists.append(float(c[k-1].strip(\"\\n\")))\n",
    "EPOCHS = 10\n",
    "k=0\n",
    "for epoch in range(EPOCHS):\n",
    "    for filename in glob.glob(os.path.join(preprocess_path, '*.txt')): \n",
    "        text = util.list_lines(filename)\n",
    "        en_text = util.encode_text_line(text, max_char)\n",
    "        for i in range(len(text)-10-1):\n",
    "            k+=1\n",
    "        lists.append(float(c[k-1].strip(\"\\n\")))\n",
    "# xpoints = range(10)\n",
    "# ypoints = lists\n",
    "# plt.plot(xpoints, ypoints)\n",
    "lists"
   ]
  },
  {
   "cell_type": "code",
   "execution_count": 15,
   "id": "06e83df5-a15b-432f-907d-a95a9b4d0938",
   "metadata": {},
   "outputs": [
    {
     "data": {
      "text/plain": [
       "6300"
      ]
     },
     "execution_count": 15,
     "metadata": {},
     "output_type": "execute_result"
    }
   ],
   "source": [
    "len(lists)"
   ]
  },
  {
   "cell_type": "code",
   "execution_count": 16,
   "id": "b67884e5-c41d-4d9a-bbfa-ebf79baef4b6",
   "metadata": {},
   "outputs": [
    {
     "data": {
      "text/plain": [
       "6233.84765625"
      ]
     },
     "execution_count": 16,
     "metadata": {},
     "output_type": "execute_result"
    }
   ],
   "source": [
    "lists[6299]"
   ]
  },
  {
   "cell_type": "code",
   "execution_count": 17,
   "id": "276c1f7b-5c7f-4fb1-afb9-7b51a9a722e0",
   "metadata": {},
   "outputs": [
    {
     "data": {
      "text/plain": [
       "10715.634765625"
      ]
     },
     "execution_count": 17,
     "metadata": {},
     "output_type": "execute_result"
    }
   ],
   "source": [
    "lists[629]"
   ]
  },
  {
   "cell_type": "code",
   "execution_count": 18,
   "id": "5e6e6f60-4861-49a3-a1c7-8b481d516b9c",
   "metadata": {},
   "outputs": [
    {
     "data": {
      "text/plain": [
       "[<matplotlib.lines.Line2D at 0x7f7d7d81bf10>]"
      ]
     },
     "execution_count": 18,
     "metadata": {},
     "output_type": "execute_result"
    },
    {
     "data": {
      "image/png": "[encoded data removed]",
      "text/plain": [
       "<Figure size 432x288 with 1 Axes>"
      ]
     },
     "metadata": {
      "needs_background": "light"
     },
     "output_type": "display_data"
    }
   ],
   "source": [
    "xpoints = range(6300)\n",
    "ypoints = lists\n",
    "plt.plot(xpoints, ypoints)"
   ]
  },
  {
   "cell_type": "code",
   "execution_count": 3,
   "id": "0f7d7caa-812a-416a-96c8-09e449c1d3db",
   "metadata": {},
   "outputs": [
    {
     "data": {
      "image/png": "[encoded data removed]",
      "text/plain": [
       "<Figure size 432x288 with 1 Axes>"
      ]
     },
     "metadata": {
      "needs_background": "light"
     },
     "output_type": "display_data"
    }
   ],
   "source": [
    "import utilities.utilities as util\n",
    "util.plot_loss(\"./neuralnetwork/fcn07-07-2022_0.txt\")"
   ]
  },
  {
   "cell_type": "code",
   "execution_count": null,
   "id": "0a1bd455-4ee8-4b2c-be30-f6ac06839813",
   "metadata": {},
   "outputs": [],
   "source": [
    "num_lines_predict=10\n",
    "net = \n",
    "test = util.list_lines(\"./preprocess/algebra-add_torsor.txt\")\n",
    "en_test = util.encode_text_line(test)\n",
    "X = en_test[0:0+num_lines_predict]\n",
    "X = torch.FloatTensor(X)\n",
    "prediction = net(X.view(-1,102*num_lines_predict))\n",
    "print(prediction)\n",
    "prediction = [ round(i) if i>=0 else 0 for i in prediction[0].tolist()]\n",
    "print(prediction)\n",
    "prediction = [chr(i) for i in prediction]\n",
    "print(prediction)\n",
    "pred = ''\n",
    "for j in prediction:\n",
    "    pred+=j\n",
    "pred"
   ]
  },
  {
   "cell_type": "code",
   "execution_count": 5,
   "id": "cb0add07-45ea-4945-9221-388edcc93468",
   "metadata": {},
   "outputs": [
    {
     "data": {
      "text/plain": [
       "[3.0, 4.5]"
      ]
     },
     "execution_count": 5,
     "metadata": {},
     "output_type": "execute_result"
    }
   ],
   "source": [
    "oo = ['3\\n','4.5']\n",
    "oo = [float(i.strip('\\n')) for i in oo]\n",
    "oo"
   ]
  },
  {
   "cell_type": "code",
   "execution_count": null,
   "id": "197c6af6-3dc0-440f-b7ae-db185b760b58",
   "metadata": {},
   "outputs": [],
   "source": []
  }
 ],
 "metadata": {
  "kernelspec": {
   "display_name": "Python 3",
   "language": "python",
   "name": "python3"
  },
  "language_info": {
   "codemirror_mode": {
    "name": "ipython",
    "version": 3
   },
   "file_extension": ".py",
   "mimetype": "text/x-python",
   "name": "python",
   "nbconvert_exporter": "python",
   "pygments_lexer": "ipython3",
   "version": "3.9.7"
  }
 },
 "nbformat": 4,
 "nbformat_minor": 5
}
