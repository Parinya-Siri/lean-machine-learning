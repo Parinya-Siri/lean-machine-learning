{
 "cells": [
  {
   "cell_type": "code",
   "execution_count": 9,
   "id": "7967d461-37dc-4ba3-a552-39ec6bf77a74",
   "metadata": {},
   "outputs": [],
   "source": [
    "class testt():\n",
    "    def __init__(self):\n",
    "        self.layer1=1000\n",
    "        self.layer2=2000\n",
    "    def add(self):\n",
    "        print(self.layer1,'and',self.layer2)"
   ]
  },
  {
   "cell_type": "code",
   "execution_count": 11,
   "id": "e9355ad9-1ef5-4d31-968b-f3e7d26e8814",
   "metadata": {},
   "outputs": [
    {
     "name": "stdout",
     "output_type": "stream",
     "text": [
      "500 and 100\n"
     ]
    }
   ],
   "source": [
    "import torch\n",
    "import torch.nn as nn\n",
    "import torch.nn.functional as F\n",
    "############### set hyper parameters ###########\n",
    "\n",
    "################################################\n",
    "\n",
    "class Net(nn.Module):\n",
    "    def __init__(self):\n",
    "        super().__init__()\n",
    "        self.num_lines_predict = 10 \n",
    "        self.fc1 = nn.Linear(102*self.num_lines_predict, 2048)\n",
    "        self.fc2 = nn.Linear(2048, 512)\n",
    "        self.fc3 = nn.Linear(512, 256)\n",
    "        self.fc4 = nn.Linear(256, 102)\n",
    "    \n",
    "    def forward(self, x):\n",
    "        x = F.relu(self.fc1(x))\n",
    "        x = F.relu(self.fc2(x))\n",
    "        x = F.relu(self.fc3(x))\n",
    "        x = self.fc4(x)\n",
    "        \n",
    "        return x"
   ]
  },
  {
   "cell_type": "code",
   "execution_count": null,
   "id": "3dd4d452-26c2-4e7b-bde1-1fd5d410ede3",
   "metadata": {},
   "outputs": [],
   "source": []
  }
 ],
 "metadata": {
  "kernelspec": {
   "display_name": "Python 3",
   "language": "python",
   "name": "python3"
  },
  "language_info": {
   "codemirror_mode": {
    "name": "ipython",
    "version": 3
   },
   "file_extension": ".py",
   "mimetype": "text/x-python",
   "name": "python",
   "nbconvert_exporter": "python",
   "pygments_lexer": "ipython3",
   "version": "3.9.7"
  }
 },
 "nbformat": 4,
 "nbformat_minor": 5
}
